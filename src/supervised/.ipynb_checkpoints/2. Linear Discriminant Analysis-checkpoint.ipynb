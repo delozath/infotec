{
 "cells": [
  {
   "cell_type": "markdown",
   "metadata": {
    "collapsed": true
   },
   "source": [
    "# 2. Linear Discriminant Analysis"
   ]
  },
  {
   "cell_type": "markdown",
   "metadata": {},
   "source": [
    "## 2.1. Importar bibliotecas estándar\n",
    "$\\sum x_i$"
   ]
  },
  {
   "cell_type": "code",
   "execution_count": 1,
   "metadata": {},
   "outputs": [],
   "source": [
    "import os\n",
    "import numpy             as np\n",
    "import pandas            as pd\n",
    "import matplotlib.pyplot as plt\n",
    "\n",
    "#Clasificador LDA\n",
    "#from sklearn.discriminant_analysis import LinearDiscriminantAnalysis as LDA"
   ]
  },
  {
   "cell_type": "markdown",
   "metadata": {},
   "source": [
    "## Ejemplo 1. Iris"
   ]
  },
  {
   "cell_type": "code",
   "execution_count": 3,
   "metadata": {},
   "outputs": [
    {
     "data": {
      "text/plain": [
       "(150, 5)"
      ]
     },
     "execution_count": 3,
     "metadata": {},
     "output_type": "execute_result"
    }
   ],
   "source": [
    "data = pd.read_csv( '../../data/iris.csv' )\n",
    "data.shape"
   ]
  },
  {
   "cell_type": "code",
   "execution_count": null,
   "metadata": {},
   "outputs": [],
   "source": [
    "colors = np.array( ['g']*data.shape[0] )\n",
    "colors.shape"
   ]
  },
  {
   "cell_type": "code",
   "execution_count": null,
   "metadata": {},
   "outputs": [],
   "source": [
    "mask = data.type=='Iris-setosa'"
   ]
  },
  {
   "cell_type": "code",
   "execution_count": null,
   "metadata": {},
   "outputs": [],
   "source": [
    "colors[ mask ] = 'r'\n",
    "colors"
   ]
  },
  {
   "cell_type": "code",
   "execution_count": null,
   "metadata": {},
   "outputs": [],
   "source": [
    "pd.plotting.scatter_matrix(data, figsize=(8, 8),alpha=.8,s=100,color=colors)\n",
    "plt.show()"
   ]
  },
  {
   "cell_type": "code",
   "execution_count": null,
   "metadata": {},
   "outputs": [],
   "source": [
    "data.loc[50:,'type']"
   ]
  },
  {
   "cell_type": "markdown",
   "metadata": {},
   "source": [
    "### Seleccionar rasgos"
   ]
  },
  {
   "cell_type": "code",
   "execution_count": null,
   "metadata": {},
   "outputs": [],
   "source": [
    "X = data.loc[:99,['sepal_l','sepal_w','petal_l','petal_w']]\n",
    "X"
   ]
  },
  {
   "cell_type": "code",
   "execution_count": null,
   "metadata": {},
   "outputs": [],
   "source": [
    "b = np.ones(X.shape[0])[:,np.newaxis]\n",
    "b"
   ]
  },
  {
   "cell_type": "code",
   "execution_count": null,
   "metadata": {},
   "outputs": [],
   "source": [
    "X = np.concatenate( (X,b ), axis=1 )\n",
    "X"
   ]
  },
  {
   "cell_type": "markdown",
   "metadata": {},
   "source": [
    "### Crear etiquetas"
   ]
  },
  {
   "cell_type": "code",
   "execution_count": null,
   "metadata": {},
   "outputs": [],
   "source": [
    "L = -2*(data.loc[:99,'type']=='Iris-setosa') + 1\n",
    "L"
   ]
  },
  {
   "cell_type": "code",
   "execution_count": null,
   "metadata": {},
   "outputs": [],
   "source": [
    "X_Train = X[10:90]\n",
    "Y_Train = L[10:90]\n",
    "\n",
    "X_Test = np.concatenate( (X[0:10],X[90:100]) )\n",
    "Y_Test = np.concatenate( (L[0:10],L[90:100]) )"
   ]
  },
  {
   "cell_type": "code",
   "execution_count": null,
   "metadata": {},
   "outputs": [],
   "source": [
    "inv = np.dot( X_Train.T, X_Train )\n",
    "inv = np.linalg.inv( inv )\n",
    "W   = np.dot( inv,X_Train.T )\n",
    "W   = np.dot( W,Y_Train )\n",
    "W"
   ]
  },
  {
   "cell_type": "code",
   "execution_count": null,
   "metadata": {},
   "outputs": [],
   "source": [
    "L_es = np.dot( X_Test,W )\n",
    "L_es = -2*(L_es<0)+1"
   ]
  },
  {
   "cell_type": "code",
   "execution_count": null,
   "metadata": {},
   "outputs": [],
   "source": [
    "from sklearn.metrics import confusion_matrix as cmx"
   ]
  },
  {
   "cell_type": "code",
   "execution_count": null,
   "metadata": {},
   "outputs": [],
   "source": [
    "cmx( Y_Test,L_es )"
   ]
  },
  {
   "cell_type": "markdown",
   "metadata": {},
   "source": [
    "### Partir conjuntos de entrenamiento y prueba"
   ]
  },
  {
   "cell_type": "code",
   "execution_count": null,
   "metadata": {},
   "outputs": [],
   "source": [
    "N   = np.ceil( X.shape[0]*.6 ).astype('int')\n",
    "N"
   ]
  },
  {
   "cell_type": "code",
   "execution_count": null,
   "metadata": {},
   "outputs": [],
   "source": [
    "sel = np.arange( X.shape[0] )\n",
    "sel"
   ]
  },
  {
   "cell_type": "code",
   "execution_count": null,
   "metadata": {},
   "outputs": [],
   "source": [
    "np.random.shuffle(sel)\n",
    "print (N)\n",
    "print (sel)"
   ]
  },
  {
   "cell_type": "code",
   "execution_count": null,
   "metadata": {},
   "outputs": [],
   "source": [
    "sel[:N]"
   ]
  },
  {
   "cell_type": "code",
   "execution_count": null,
   "metadata": {},
   "outputs": [],
   "source": [
    "sel[N:]"
   ]
  },
  {
   "cell_type": "markdown",
   "metadata": {},
   "source": [
    "### Entrenar"
   ]
  },
  {
   "cell_type": "code",
   "execution_count": null,
   "metadata": {},
   "outputs": [],
   "source": [
    "model = LDA()\n",
    "model.fit(X.loc[ sel[:N] ], L[ sel[:N] ])"
   ]
  },
  {
   "cell_type": "markdown",
   "metadata": {},
   "source": [
    "### Evaluar en un conjunto de datos no vistos"
   ]
  },
  {
   "cell_type": "code",
   "execution_count": null,
   "metadata": {},
   "outputs": [],
   "source": [
    "L_predict = model.predict( X.loc[ sel[N:] ] )"
   ]
  },
  {
   "cell_type": "code",
   "execution_count": null,
   "metadata": {},
   "outputs": [],
   "source": [
    "for n,(i,j) in enumerate( zip( L[ sel[N:] ],L_predict )  ):\n",
    "    if i!=j:\n",
    "        print( '%d,\\t%d,\\t%d'%(n,i,j) )\n"
   ]
  },
  {
   "cell_type": "code",
   "execution_count": null,
   "metadata": {},
   "outputs": [],
   "source": [
    "from sklearn.metrics import classification_report as report\n",
    "\n",
    "classes = ['Iris Setosa','Otras']\n",
    "print ( report( L[ sel[N:] ],L_predict,target_names=classes ) )"
   ]
  },
  {
   "cell_type": "markdown",
   "metadata": {},
   "source": [
    "### Parametros adicionales"
   ]
  },
  {
   "cell_type": "code",
   "execution_count": null,
   "metadata": {},
   "outputs": [],
   "source": [
    "#imprimir todos los métodos y atributos de un objeto\n",
    "print (dir(model))"
   ]
  },
  {
   "cell_type": "code",
   "execution_count": null,
   "metadata": {},
   "outputs": [],
   "source": [
    "print ( model.coef_ )"
   ]
  },
  {
   "cell_type": "code",
   "execution_count": null,
   "metadata": {},
   "outputs": [],
   "source": [
    "print ( model.intercept_ )"
   ]
  },
  {
   "cell_type": "markdown",
   "metadata": {},
   "source": [
    "## Hasta aquí revisamos en la segunda sesión"
   ]
  },
  {
   "cell_type": "markdown",
   "metadata": {},
   "source": [
    "## Ejemplo 2. Problema de tres clases"
   ]
  },
  {
   "cell_type": "code",
   "execution_count": null,
   "metadata": {},
   "outputs": [],
   "source": [
    "X = data.loc[:,['sepal_l','sepal_w','petal_l','petal_w']]\n",
    "X"
   ]
  },
  {
   "cell_type": "code",
   "execution_count": null,
   "metadata": {},
   "outputs": [],
   "source": [
    "N   = np.ceil( .6*X.shape[0]/3. ).astype('int')\n",
    "sel = np.arange( X.shape[0]/3 )\n",
    "np.random.shuffle(sel)\n",
    "\n",
    "print (N)\n",
    "print (sel)"
   ]
  },
  {
   "cell_type": "code",
   "execution_count": null,
   "metadata": {},
   "outputs": [],
   "source": [
    "#X      = X.values\n",
    "X      = X.reshape( 3,50,4 )\n",
    "XTrain = X[ :,sel[:N] ] \n",
    "XTest  = X[ :,sel[N:] ] "
   ]
  },
  {
   "cell_type": "code",
   "execution_count": null,
   "metadata": {},
   "outputs": [],
   "source": [
    "Y = np.array( [1,2,3]*50 ).reshape(50,3)\n",
    "print (Y)"
   ]
  },
  {
   "cell_type": "code",
   "execution_count": null,
   "metadata": {},
   "outputs": [],
   "source": [
    "YTrain = Y[ sel[:N] ].flatten()\n",
    "YTest  = Y[ sel[N:] ].flatten()"
   ]
  },
  {
   "cell_type": "code",
   "execution_count": null,
   "metadata": {
    "scrolled": true
   },
   "outputs": [],
   "source": [
    "model = LDA()\n",
    "model.fit(XTrain, YTrain)"
   ]
  },
  {
   "cell_type": "markdown",
   "metadata": {},
   "source": [
    "## Ejemplo 3. Monitorea de actividad"
   ]
  },
  {
   "cell_type": "markdown",
   "metadata": {},
   "source": [
    "## 2.2. Cargar archivo [Human Activity Recognition with Smartphones (Simplified)](https://www.kaggle.com/mboaglio/simplifiedhuarus)"
   ]
  },
  {
   "cell_type": "code",
   "execution_count": null,
   "metadata": {},
   "outputs": [],
   "source": [
    "data = pd.read_csv( '../../data/wearable-train.csv' )"
   ]
  },
  {
   "cell_type": "markdown",
   "metadata": {},
   "source": [
    "## 2.3. Despliegue de los datos"
   ]
  },
  {
   "cell_type": "code",
   "execution_count": null,
   "metadata": {},
   "outputs": [],
   "source": [
    "data"
   ]
  },
  {
   "cell_type": "markdown",
   "metadata": {},
   "source": [
    "## Análisis"
   ]
  },
  {
   "cell_type": "code",
   "execution_count": null,
   "metadata": {},
   "outputs": [],
   "source": [
    "data.describe()"
   ]
  },
  {
   "cell_type": "markdown",
   "metadata": {},
   "source": [
    "### Seleccionando aceleración media del cuerpo en los tres ejes"
   ]
  },
  {
   "cell_type": "code",
   "execution_count": null,
   "metadata": {},
   "outputs": [],
   "source": [
    "fts = ['tBodyAcc.mean.X','tBodyAcc.mean.Y','tBodyAcc.mean.Z'] \n",
    "data[ data.activity=='LAYING' ].loc[:, fts ]"
   ]
  },
  {
   "cell_type": "markdown",
   "metadata": {},
   "source": [
    "## Clasificar entre caminar y estar acostado"
   ]
  },
  {
   "cell_type": "markdown",
   "metadata": {},
   "source": [
    "### Construir la base de datos de entrenamiento"
   ]
  },
  {
   "cell_type": "code",
   "execution_count": null,
   "metadata": {},
   "outputs": [],
   "source": [
    "fts  = ['tBodyAcc.mean.X','tBodyAcc.mean.Y','tBodyAcc.mean.Z']\n",
    "X_C1 = data[ data.activity=='LAYING' ].loc[:, fts ]\n",
    "L_C1 = -np.ones( X_C1.shape[0] )"
   ]
  },
  {
   "cell_type": "code",
   "execution_count": null,
   "metadata": {},
   "outputs": [],
   "source": [
    "X_C2 = data[ data.activity=='WALKING' ].loc[:, fts ]\n",
    "L_C2 = np.ones( X_C2.shape[0] )\n",
    "\n",
    "print (X_C1.shape)\n",
    "print (X_C2.shape)"
   ]
  },
  {
   "cell_type": "code",
   "execution_count": null,
   "metadata": {},
   "outputs": [],
   "source": [
    "X_Train = np.concatenate( (X_C1,X_C2),axis=0 )\n",
    "\n",
    "print (X_Train.shape)\n",
    "print (L_C1.shape)\n",
    "print (L_C2.shape)"
   ]
  },
  {
   "cell_type": "code",
   "execution_count": null,
   "metadata": {},
   "outputs": [],
   "source": [
    "L_Train = np.concatenate( (L_C1,L_C2) )\n",
    "print (L_Train)"
   ]
  },
  {
   "cell_type": "code",
   "execution_count": null,
   "metadata": {},
   "outputs": [],
   "source": [
    "colors = np.array( ['r']*L_Train.shape[0] )\n",
    "colors[L_Train==-1] = 'b'\n",
    "print (colors)"
   ]
  },
  {
   "cell_type": "code",
   "execution_count": null,
   "metadata": {},
   "outputs": [],
   "source": [
    "pd.plotting.scatter_matrix( pd.DataFrame(X_Train), figsize=(6, 6),alpha=.8,s=100,color=colors)\n",
    "plt.show()"
   ]
  },
  {
   "cell_type": "markdown",
   "metadata": {},
   "source": [
    "### La media resulto ser un mal rasgo"
   ]
  },
  {
   "cell_type": "code",
   "execution_count": null,
   "metadata": {},
   "outputs": [],
   "source": [
    "fts  = ['tBodyAcc.std.X','tBodyAcc.std.Y','tBodyAcc.std.Z']\n",
    "X_C1 = data[ data.activity=='LAYING' ].loc[:, fts ]\n",
    "L_C1 = -np.ones( X_C1.shape[0] )\n",
    "X_C2 = data[ data.activity=='WALKING' ].loc[:, fts ]\n",
    "L_C2 = np.ones( X_C2.shape[0] )\n",
    "\n",
    "X_Train = np.concatenate( (X_C1,X_C2),axis=0 )\n",
    "L_Train = np.concatenate( (L_C1,L_C2) )\n",
    "\n",
    "colors = np.array( ['r']*L_Train.shape[0] )\n",
    "colors[L_Train==-1] = 'b'\n",
    "\n",
    "pd.plotting.scatter_matrix( pd.DataFrame(X_Train), figsize=(6, 6),alpha=.8,s=100,color=colors)\n",
    "plt.show()"
   ]
  },
  {
   "cell_type": "markdown",
   "metadata": {},
   "source": [
    "## Entrenar al clasificador"
   ]
  },
  {
   "cell_type": "markdown",
   "metadata": {},
   "source": [
    "### Partición de datos"
   ]
  },
  {
   "cell_type": "code",
   "execution_count": null,
   "metadata": {},
   "outputs": [],
   "source": [
    "N   = np.ceil( X_Train.shape[0]*.7 ).astype('int')\n",
    "sel = np.arange( X_Train.shape[0] )\n",
    "np.random.shuffle(sel)\n",
    "\n",
    "print (N)\n",
    "print (sel)"
   ]
  },
  {
   "cell_type": "markdown",
   "metadata": {},
   "source": [
    "### Crear objeto LDA para entrenar con datos X_Train, L_Train -> (Clasificador supervisado)"
   ]
  },
  {
   "cell_type": "code",
   "execution_count": null,
   "metadata": {},
   "outputs": [],
   "source": [
    "model = LDA()\n",
    "model.fit(X_Train[ sel[:N] ], L_Train[ sel[:N] ])"
   ]
  },
  {
   "cell_type": "markdown",
   "metadata": {},
   "source": [
    "### Clasificar con el método"
   ]
  },
  {
   "cell_type": "code",
   "execution_count": null,
   "metadata": {},
   "outputs": [],
   "source": [
    "L_predict = model.predict( X_Train[ sel[N:] ] )"
   ]
  },
  {
   "cell_type": "code",
   "execution_count": null,
   "metadata": {},
   "outputs": [],
   "source": [
    "for n,(i,j) in enumerate( zip( L_Train[ sel[N:] ],L_predict )  ):\n",
    "    if i!=j:\n",
    "        print ('%d,\\t%d,\\t%d'%(n,i,j))"
   ]
  },
  {
   "cell_type": "markdown",
   "metadata": {},
   "source": [
    "### Evaluación de desempeño"
   ]
  },
  {
   "cell_type": "code",
   "execution_count": null,
   "metadata": {},
   "outputs": [],
   "source": [
    "from sklearn.metrics import classification_report as report\n",
    "\n",
    "classes = ['Laying','Walking']\n",
    "print ( report( L_Train[ sel[N:] ],L_predict,target_names=classes ) )"
   ]
  },
  {
   "cell_type": "markdown",
   "metadata": {},
   "source": [
    "## Clasificación entre caminando y de pie"
   ]
  },
  {
   "cell_type": "code",
   "execution_count": null,
   "metadata": {
    "scrolled": true
   },
   "outputs": [],
   "source": [
    "fts  = ['tBodyAcc.entropy.X','tBodyAcc.entropy.Y','tBodyAcc.entropy.Z','tBodyAcc.std.Z','tBodyAcc.std.Y']\n",
    "#fts  = ['tBodyAcc.mean.X','tBodyAcc.mean.Y','tBodyAcc.std.Z']\n",
    "X_C1 = data[ data.activity=='STANDING' ].loc[:, fts ]\n",
    "L_C1 = -np.ones( X_C1.shape[0] )\n",
    "X_C2 = data[ data.activity=='WALKING' ].loc[:, fts ]\n",
    "L_C2 = np.ones( X_C2.shape[0] )\n",
    "\n",
    "X_Train = np.concatenate( (X_C1,X_C2),axis=0 )\n",
    "L_Train = np.concatenate( (L_C1,L_C2) )\n",
    "\n",
    "colors = np.array( ['r']*L_Train.shape[0] )\n",
    "colors[L_Train==-1] = 'b'\n",
    "\n",
    "pd.plotting.scatter_matrix( pd.DataFrame(X_Train), figsize=(6, 6),alpha=.8,s=100,color=colors)\n",
    "plt.show()"
   ]
  },
  {
   "cell_type": "code",
   "execution_count": null,
   "metadata": {},
   "outputs": [],
   "source": [
    "N   = np.ceil( X_Train.shape[0]*.7 ).astype('int')\n",
    "sel = np.arange( X_Train.shape[0] )\n",
    "np.random.shuffle(sel)\n",
    "\n",
    "print N, sel\n",
    "\n",
    "model = LDA()\n",
    "model.fit(X_Train[ sel[:N] ], L_Train[ sel[:N] ])"
   ]
  },
  {
   "cell_type": "code",
   "execution_count": null,
   "metadata": {},
   "outputs": [],
   "source": [
    "L_predict = model.predict( X_Train[ sel[N:] ] )"
   ]
  },
  {
   "cell_type": "code",
   "execution_count": null,
   "metadata": {},
   "outputs": [],
   "source": [
    "for n,(i,j) in enumerate( zip( L_Train[ sel[N:] ],L_predict )  ):\n",
    "    if i!=j:\n",
    "        print ('%d,\\t%d,\\t%d'%(n,i,j))"
   ]
  },
  {
   "cell_type": "code",
   "execution_count": null,
   "metadata": {},
   "outputs": [],
   "source": [
    "from sklearn.metrics import classification_report as report\n",
    "\n",
    "classes = ['Laying','Walking']\n",
    "print ( report( L_Train[ sel[N:] ],L_predict,target_names=classes ) )"
   ]
  },
  {
   "cell_type": "code",
   "execution_count": null,
   "metadata": {},
   "outputs": [],
   "source": [
    "L_predict = model.predict( X.loc[ sel[N:] ] )"
   ]
  },
  {
   "cell_type": "markdown",
   "metadata": {},
   "source": [
    "#### ejercicio: fts  = ['']\n"
   ]
  },
  {
   "cell_type": "code",
   "execution_count": null,
   "metadata": {},
   "outputs": [],
   "source": [
    "for i in data.columns:\n",
    "    print (i)"
   ]
  }
 ],
 "metadata": {
  "kernelspec": {
   "display_name": "Python 2",
   "language": "python",
   "name": "python2"
  },
  "language_info": {
   "codemirror_mode": {
    "name": "ipython",
    "version": 2
   },
   "file_extension": ".py",
   "mimetype": "text/x-python",
   "name": "python",
   "nbconvert_exporter": "python",
   "pygments_lexer": "ipython2",
   "version": "2.7.14"
  }
 },
 "nbformat": 4,
 "nbformat_minor": 2
}
