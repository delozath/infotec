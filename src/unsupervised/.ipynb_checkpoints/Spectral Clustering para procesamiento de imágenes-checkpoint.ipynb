{
 "cells": [
  {
   "cell_type": "code",
   "execution_count": null,
   "metadata": {},
   "outputs": [],
   "source": [
    "import numpy as np\n",
    "import matplotlib.pyplot as plt\n",
    "\n",
    "from sklearn.feature_extraction import image\n",
    "from sklearn.cluster import spectral_clustering\n",
    "\n",
    "%matplotlib inline"
   ]
  },
  {
   "cell_type": "code",
   "execution_count": null,
   "metadata": {},
   "outputs": [],
   "source": [
    "l    = 100\n",
    "x, y = np.indices((l, l))\n",
    "\n",
    "c0 = (28, 24)\n",
    "c1 = (40, 50)\n",
    "c2 = (67, 58)\n",
    "c3 = (24, 70)\n",
    "\n",
    "r0, r1, r2, r3 = 16, 14, 15, 14\n",
    "\n",
    "circ0 = (x - c0[0]) ** 2 + (y - c0[1]) ** 2 < r0 ** 2\n",
    "circ1 = (x - c1[0]) ** 2 + (y - c1[1]) ** 2 < r1 ** 2\n",
    "circ2 = (x - c2[0]) ** 2 + (y - c2[1]) ** 2 < r2 ** 2\n",
    "circ3 = (x - c3[0]) ** 2 + (y - c3[1]) ** 2 < r3 ** 2\n",
    "\n",
    "\n",
    "img = circ0 + circ1 + circ2 + circ3"
   ]
  },
  {
   "cell_type": "code",
   "execution_count": null,
   "metadata": {},
   "outputs": [],
   "source": [
    "mask = img.astype(bool)\n",
    "\n",
    "img = img.astype(float)\n",
    "img += 1 + 0.3 * np.random.randn(*img.shape)"
   ]
  },
  {
   "cell_type": "code",
   "execution_count": null,
   "metadata": {},
   "outputs": [],
   "source": [
    "graph      = image.img_to_graph(img, mask=mask)\n",
    "#graph.data = np.exp(-graph.data / graph.data.std())\n",
    "graph.data = np.exp(-0.05*graph.data**2)"
   ]
  },
  {
   "cell_type": "code",
   "execution_count": null,
   "metadata": {},
   "outputs": [],
   "source": [
    "labels         = spectral_clustering(graph, n_clusters=4, eigen_solver='arpack')\n",
    "label_im       = np.full(mask.shape, -1.)\n",
    "label_im[mask] = labels\n",
    "\n",
    "plt.matshow(img)\n",
    "plt.matshow(label_im)\n",
    "\n",
    "plt.show()"
   ]
  },
  {
   "cell_type": "code",
   "execution_count": null,
   "metadata": {},
   "outputs": [],
   "source": [
    "from skimage           import data\n",
    "from skimage.color     import rgb2grey\n",
    "from skimage.filters   import gaussian\n",
    "from skimage.transform import rescale"
   ]
  },
  {
   "cell_type": "code",
   "execution_count": null,
   "metadata": {},
   "outputs": [],
   "source": [
    "#img = rgb2grey( data.checkerboard() )\n",
    "img = rgb2grey( data.coins() )\n",
    "#img = rgb2grey( data.camera() )\n",
    "#img = rgb2grey( data.chelsea() )\n",
    "img = gaussian(img,sigma=2.)\n",
    "img = rescale (img, 0.2, mode=\"reflect\")\n",
    "plt.imshow(img,'inferno')"
   ]
  },
  {
   "cell_type": "code",
   "execution_count": null,
   "metadata": {},
   "outputs": [],
   "source": [
    "gamma      = 10\n",
    "eps        = 1e-6\n",
    "\n",
    "graph      = image.img_to_graph(img)\n",
    "graph.data = np.exp(-gamma * graph.data / graph.data.std()) + eps\n",
    "\n",
    "N = 25"
   ]
  },
  {
   "cell_type": "code",
   "execution_count": null,
   "metadata": {},
   "outputs": [],
   "source": [
    "labels = spectral_clustering(graph, n_clusters=N, eigen_solver='arpack', random_state=25)"
   ]
  },
  {
   "cell_type": "code",
   "execution_count": null,
   "metadata": {},
   "outputs": [],
   "source": [
    "labels = labels.reshape(img.shape)\n",
    "\n",
    "plt.figure(figsize=(5, 5))\n",
    "plt.imshow(img, cmap=plt.cm.gray)\n",
    "for l in range(N):\n",
    "    plt.contour(  labels == l, colors=[ plt.cm.nipy_spectral( l/float(N) )]  )"
   ]
  }
 ],
 "metadata": {
  "kernelspec": {
   "display_name": "Python 2",
   "language": "python",
   "name": "python2"
  },
  "language_info": {
   "codemirror_mode": {
    "name": "ipython",
    "version": 2
   },
   "file_extension": ".py",
   "mimetype": "text/x-python",
   "name": "python",
   "nbconvert_exporter": "python",
   "pygments_lexer": "ipython2",
   "version": "2.7.15rc1"
  }
 },
 "nbformat": 4,
 "nbformat_minor": 2
}
