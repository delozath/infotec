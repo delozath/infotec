{
 "cells": [
  {
   "cell_type": "markdown",
   "metadata": {
    "colab_type": "text",
    "id": "fEnPmkOePYmR"
   },
   "source": [
    "## **Compresión de imágenes**"
   ]
  },
  {
   "cell_type": "code",
   "execution_count": null,
   "metadata": {
    "colab": {},
    "colab_type": "code",
    "id": "dBNSqHkcPec1"
   },
   "outputs": [],
   "source": [
    "# Carga bibliotecas útiles\n",
    "import numpy as np\n",
    "from PIL import Image\n",
    "import matplotlib.pyplot as plt\n",
    "%matplotlib inline\n",
    "from mpl_toolkits.mplot3d import axes3d"
   ]
  },
  {
   "cell_type": "code",
   "execution_count": null,
   "metadata": {
    "colab": {
     "base_uri": "https://localhost:8080/",
     "height": 287
    },
    "colab_type": "code",
    "executionInfo": {
     "elapsed": 1228,
     "status": "ok",
     "timestamp": 1537218435824,
     "user": {
      "displayName": "Oscar Yáñez",
      "photoUrl": "//lh5.googleusercontent.com/-Prxq0ut7kXg/AAAAAAAAAAI/AAAAAAAAAUE/0_0fIeQegvk/s50-c-k-no/photo.jpg",
      "userId": "101681087597011654825"
     },
     "user_tz": 300
    },
    "id": "BzRBD3vwPicI",
    "outputId": "fd02d56a-b753-4680-f030-1649ca1f942f"
   },
   "outputs": [],
   "source": [
    "# Carga y muestra imagen\n",
    "im = Image.open('../images/Jellybeans.png')\n",
    "print(im.getbands())\n",
    "plt.imshow(im);\n",
    "plt.axis('off');\n"
   ]
  },
  {
   "cell_type": "code",
   "execution_count": null,
   "metadata": {
    "colab": {},
    "colab_type": "code",
    "id": "fSmnGWnbRRso"
   },
   "outputs": [],
   "source": [
    "# Recupera los canales de color\n",
    "Xr = np.array(list(im.getdata(0)))\n",
    "Xg = np.array(list(im.getdata(1)))\n",
    "Xb = np.array(list(im.getdata(2)))\n",
    "# Crea matriz de valores RGB\n",
    "C = np.array([Xr,Xg,Xb]).transpose()/255.0"
   ]
  },
  {
   "cell_type": "code",
   "execution_count": null,
   "metadata": {
    "colab": {
     "base_uri": "https://localhost:8080/",
     "height": 466
    },
    "colab_type": "code",
    "executionInfo": {
     "elapsed": 1626,
     "status": "ok",
     "timestamp": 1537219275534,
     "user": {
      "displayName": "Oscar Yáñez",
      "photoUrl": "//lh5.googleusercontent.com/-Prxq0ut7kXg/AAAAAAAAAAI/AAAAAAAAAUE/0_0fIeQegvk/s50-c-k-no/photo.jpg",
      "userId": "101681087597011654825"
     },
     "user_tz": 300
    },
    "id": "pvh-vt9oT33d",
    "outputId": "113a7bbb-01b3-4451-f5c1-911170daff34"
   },
   "outputs": [],
   "source": [
    "# Grafica una porción de la nube RGB\n",
    "ax = plt.figure(figsize=(8,8)).add_subplot(111, projection='3d');\n",
    "ax.scatter( Xr[range(0,len(Xr),100)],\n",
    "            Xg[range(0,len(Xg),100)],\n",
    "            Xb[range(0,len(Xb),100)],\n",
    "            c=C[range(0,len(Xb),100),:] );\n",
    "ax.set_xlabel('Rojo');\n",
    "ax.set_ylabel('Verde');\n",
    "ax.set_zlabel('Azul');"
   ]
  },
  {
   "cell_type": "code",
   "execution_count": null,
   "metadata": {
    "colab": {},
    "colab_type": "code",
    "id": "ccla4E7dT9CL"
   },
   "outputs": [],
   "source": []
  }
 ],
 "metadata": {
  "colab": {
   "name": "Untitled0.ipynb",
   "provenance": [],
   "toc_visible": true,
   "version": "0.3.2"
  },
  "kernelspec": {
   "display_name": "Python 2",
   "language": "python",
   "name": "python2"
  },
  "language_info": {
   "codemirror_mode": {
    "name": "ipython",
    "version": 2
   },
   "file_extension": ".py",
   "mimetype": "text/x-python",
   "name": "python",
   "nbconvert_exporter": "python",
   "pygments_lexer": "ipython2",
   "version": "2.7.14"
  }
 },
 "nbformat": 4,
 "nbformat_minor": 1
}
