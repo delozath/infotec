{
 "cells": [
  {
   "cell_type": "markdown",
   "metadata": {},
   "source": [
    "# Segmentación de imágenes basada en agrupamiento aglutinante"
   ]
  },
  {
   "cell_type": "markdown",
   "metadata": {},
   "source": [
    "### Incluir bibliotecas"
   ]
  },
  {
   "cell_type": "code",
   "execution_count": 78,
   "metadata": {},
   "outputs": [],
   "source": [
    "import numpy             as np\n",
    "import matplotlib.pyplot as plt\n",
    "\n",
    "from skimage       import data\n",
    "from skimage.color import rgb2grey\n",
    "\n",
    "from scipy.stats     import entropy\n",
    "from scipy.stats     import mannwhitneyu as utest\n",
    "from multiprocessing import Pool"
   ]
  },
  {
   "cell_type": "markdown",
   "metadata": {},
   "source": [
    "### Métrica basada en diferencia de desvianción estándar"
   ]
  },
  {
   "cell_type": "code",
   "execution_count": 2,
   "metadata": {},
   "outputs": [],
   "source": [
    "def metric_m(X,Y,e):\n",
    "    x = np.abs( X.mean() - Y.mean() )\n",
    "    return x<e"
   ]
  },
  {
   "cell_type": "code",
   "execution_count": 3,
   "metadata": {},
   "outputs": [],
   "source": [
    "def metric_std(X,Y,e):\n",
    "    x = np.abs( X.std() - Y.std() )\n",
    "    return x<e"
   ]
  },
  {
   "cell_type": "code",
   "execution_count": 54,
   "metadata": {
    "scrolled": true
   },
   "outputs": [],
   "source": [
    "def aggl(X,X0,C,C0,e=.5):\n",
    "    m = metric_m( X,X0, e)\n",
    "    c = np.min( [C,C0] )\n",
    "    return c, m"
   ]
  },
  {
   "cell_type": "markdown",
   "metadata": {},
   "source": [
    "### Ejemplo de una matriz aleatoria $6\\times 5$"
   ]
  },
  {
   "cell_type": "code",
   "execution_count": 5,
   "metadata": {},
   "outputs": [],
   "source": [
    "M, N = 6,5\n",
    "D    = np.random.randn( M*N ).reshape( M,N )\n",
    "C    = np.arange( D.size )   .reshape( M,N )"
   ]
  },
  {
   "cell_type": "code",
   "execution_count": 6,
   "metadata": {},
   "outputs": [
    {
     "data": {
      "text/plain": [
       "<matplotlib.image.AxesImage at 0x7f1e5e043910>"
      ]
     },
     "execution_count": 6,
     "metadata": {},
     "output_type": "execute_result"
    },
    {
     "data": {
      "image/png": "[encoded data removed]",
      "text/plain": [
       "<Figure size 432x288 with 1 Axes>"
      ]
     },
     "metadata": {},
     "output_type": "display_data"
    }
   ],
   "source": [
    "e = .1\n",
    "for i in range(M-1):\n",
    "    for j in range(N-1):\n",
    "        m,c = aggl( D[i,j  ], \n",
    "                    D[i,j+1],\n",
    "                    C[i,j  ], \n",
    "                    C[i,j+1], e)\n",
    "        if m:\n",
    "            C[i,j  ] = c\n",
    "            C[i,j+1] = c\n",
    "        \n",
    "        m,c = aggl( D[i  ,j], \n",
    "                    D[i+1,j],\n",
    "                    C[i,j  ], \n",
    "                    C[i+1,j], e)\n",
    "        if m:\n",
    "            C[i  ,j] = c\n",
    "            C[i+1,j] = c\n",
    "\n",
    "plt.imshow(C.T,cmap='inferno')"
   ]
  },
  {
   "cell_type": "code",
   "execution_count": 7,
   "metadata": {},
   "outputs": [
    {
     "data": {
      "text/plain": [
       "array([[ 0,  1,  1,  1,  1],\n",
       "       [ 1,  1,  1,  1,  1],\n",
       "       [ 1,  1,  1,  1,  1],\n",
       "       [ 1,  1,  1,  1,  1],\n",
       "       [ 1,  1,  1,  1,  1],\n",
       "       [ 1,  1,  1,  1, 29]])"
      ]
     },
     "execution_count": 7,
     "metadata": {},
     "output_type": "execute_result"
    }
   ],
   "source": [
    "C"
   ]
  },
  {
   "cell_type": "markdown",
   "metadata": {},
   "source": [
    "### Ejemplo con una imagen"
   ]
  },
  {
   "cell_type": "code",
   "execution_count": 46,
   "metadata": {},
   "outputs": [
    {
     "data": {
      "text/plain": [
       "<matplotlib.image.AxesImage at 0x7f1e4c1c7590>"
      ]
     },
     "execution_count": 46,
     "metadata": {},
     "output_type": "execute_result"
    },
    {
     "data": {
      "image/png": "[encoded data removed]",
      "text/plain": [
       "<Figure size 432x288 with 1 Axes>"
      ]
     },
     "metadata": {},
     "output_type": "display_data"
    }
   ],
   "source": [
    "im = rgb2grey( data.checkerboard() )\n",
    "#im = rgb2grey( data.coins() )\n",
    "#im = rgb2grey( data.camera() )\n",
    "plt.imshow(im,'inferno')"
   ]
  },
  {
   "cell_type": "code",
   "execution_count": 60,
   "metadata": {},
   "outputs": [],
   "source": [
    "n     = 13\n",
    "overl = .5\n",
    "step  = int( overl*n )\n",
    "\n",
    "x,y = im.shape\n",
    "x   = np.arange( 0,x-step,step)\n",
    "y   = np.arange( 0,y-step,step)\n",
    "\n",
    "x,y = np.meshgrid(x,y)"
   ]
  },
  {
   "cell_type": "code",
   "execution_count": 61,
   "metadata": {
    "scrolled": true
   },
   "outputs": [
    {
     "name": "stdout",
     "output_type": "stream",
     "text": [
      "CPU times: user 139 ms, sys: 9.94 ms, total: 149 ms\n",
      "Wall time: 139 ms\n"
     ]
    },
    {
     "data": {
      "image/png": "[encoded data removed]",
      "text/plain": [
       "<Figure size 432x288 with 1 Axes>"
      ]
     },
     "metadata": {},
     "output_type": "display_data"
    }
   ],
   "source": [
    "%%time\n",
    "e = .25\n",
    "N = x.shape[1]\n",
    "C = np.arange( x.size ); np.random.shuffle(C)\n",
    "C = C.reshape( x.shape )\n",
    "for n,(i,j) in enumerate( zip( x.ravel(),y.ravel() ) ):\n",
    "    m,c = aggl( im[i:i+step,j  :j  +step], \n",
    "                im[i:i+step,j+1:j+1+step],\n",
    "                C[n/N, n   %N],\n",
    "                C[n/N,(n+1)%N], e)\n",
    "    if m:\n",
    "        C[n/N, n   %N] = c\n",
    "        C[n/N,(n+1)%N] = c\n",
    "\n",
    "    m,c = aggl( im[i  :i  +step,j:j+step], \n",
    "                im[i+1:i+1+step,j:j+step],\n",
    "                C[n/N, n   %N],\n",
    "                C[n/N,(n+1)%N], e)\n",
    "    if m:\n",
    "        C[n/N, n   %N] = c\n",
    "        C[n/N,(n+1)%N] = c\n",
    "    \n",
    "plt.imshow(C[:,:-1].T ,cmap='inferno')"
   ]
  },
  {
   "cell_type": "code",
   "execution_count": 62,
   "metadata": {},
   "outputs": [
    {
     "data": {
      "text/plain": [
       "array([[1, 1, 1, ..., 1, 1, 1],\n",
       "       [1, 1, 1, ..., 1, 1, 1],\n",
       "       [1, 1, 1, ..., 1, 1, 1],\n",
       "       ...,\n",
       "       [1, 1, 1, ..., 1, 1, 1],\n",
       "       [1, 1, 1, ..., 1, 1, 1],\n",
       "       [1, 1, 1, ..., 1, 1, 1]])"
      ]
     },
     "execution_count": 62,
     "metadata": {},
     "output_type": "execute_result"
    }
   ],
   "source": [
    "C"
   ]
  },
  {
   "cell_type": "markdown",
   "metadata": {},
   "source": [
    "### Histograma como métrica"
   ]
  },
  {
   "cell_type": "code",
   "execution_count": 63,
   "metadata": {},
   "outputs": [],
   "source": [
    "def Hist(x, bins):\n",
    "    h = np.histogram( x.ravel(),bins=bins )\n",
    "    return h[1]"
   ]
  },
  {
   "cell_type": "code",
   "execution_count": 64,
   "metadata": {},
   "outputs": [],
   "source": [
    "bins = np.linspace(0,256,20)"
   ]
  },
  {
   "cell_type": "code",
   "execution_count": 65,
   "metadata": {},
   "outputs": [
    {
     "name": "stdout",
     "output_type": "stream",
     "text": [
      "CPU times: user 113 ms, sys: 8.39 ms, total: 121 ms\n",
      "Wall time: 117 ms\n"
     ]
    }
   ],
   "source": [
    "%%time\n",
    "H = []\n",
    "for n,(i,j) in enumerate( zip( x.ravel(),y.ravel() ) ):\n",
    "    h = Hist( im[i:i+step,j:j+step].ravel(),bins ) \n",
    "    H.append( h[1] )"
   ]
  },
  {
   "cell_type": "code",
   "execution_count": 66,
   "metadata": {},
   "outputs": [
    {
     "name": "stdout",
     "output_type": "stream",
     "text": [
      "CPU times: user 183 ms, sys: 155 ms, total: 338 ms\n",
      "Wall time: 377 ms\n"
     ]
    }
   ],
   "source": [
    "%%time\n",
    "from multiprocessing import Pool\n",
    "H       = []\n",
    "pool    = Pool(processes=20)\n",
    "results = [ pool.apply_async(  Hist, args=(im[i:i+step,j:j+step],bins,) ) for i,j in zip( x.ravel(),y.ravel() ) ]\n",
    "\n",
    "H  = [p.get() for p in results]\n",
    "H  = np.array(H)"
   ]
  },
  {
   "cell_type": "code",
   "execution_count": 67,
   "metadata": {},
   "outputs": [
    {
     "data": {
      "text/plain": [
       "(1089, 20)"
      ]
     },
     "execution_count": 67,
     "metadata": {},
     "output_type": "execute_result"
    }
   ],
   "source": [
    "H.shape"
   ]
  },
  {
   "cell_type": "code",
   "execution_count": 68,
   "metadata": {},
   "outputs": [],
   "source": [
    "s = x.shape\n",
    "H = H.reshape( s[0],s[1],H.shape[-1] )"
   ]
  },
  {
   "cell_type": "code",
   "execution_count": 69,
   "metadata": {},
   "outputs": [
    {
     "name": "stdout",
     "output_type": "stream",
     "text": [
      "CPU times: user 181 ms, sys: 134 ms, total: 316 ms\n",
      "Wall time: 479 ms\n"
     ]
    }
   ],
   "source": [
    "%%time\n",
    "pool = Pool(processes=20)\n",
    "R    = []\n",
    "L    = []\n",
    "for i in range(s[0]-1):\n",
    "    for j in range(s[1]-1):\n",
    "        R.append(\n",
    "          pool.apply_async(  utest, args=(H[i,j],H[i,j+1],) )\n",
    "        )\n",
    "        L.append(\n",
    "          pool.apply_async(  utest, args=(H[i,j],H[i+1,j],) )\n",
    "        )\n",
    "        \n",
    "\n",
    "uwr  = [r.get() for r in R]\n",
    "uwl  = [l.get() for l in L]\n",
    "uwr  = np.array(uwr)\n",
    "uwl  = np.array(uwl)"
   ]
  },
  {
   "cell_type": "code",
   "execution_count": 70,
   "metadata": {},
   "outputs": [
    {
     "data": {
      "text/plain": [
       "(1024, 2)"
      ]
     },
     "execution_count": 70,
     "metadata": {},
     "output_type": "execute_result"
    }
   ],
   "source": [
    "uwr.shape"
   ]
  },
  {
   "cell_type": "code",
   "execution_count": 71,
   "metadata": {},
   "outputs": [],
   "source": [
    "uwr = uwr.reshape( s[0]-1,s[1]-1,2 )\n",
    "uwl = uwl.reshape( s[0]-1,s[1]-1,2 )"
   ]
  },
  {
   "cell_type": "code",
   "execution_count": 75,
   "metadata": {},
   "outputs": [
    {
     "data": {
      "text/plain": [
       "<matplotlib.image.AxesImage at 0x7f1e5c1b7cd0>"
      ]
     },
     "execution_count": 75,
     "metadata": {},
     "output_type": "execute_result"
    },
    {
     "data": {
      "image/png": "[encoded data removed]",
      "text/plain": [
       "<Figure size 432x288 with 1 Axes>"
      ]
     },
     "metadata": {},
     "output_type": "display_data"
    }
   ],
   "source": [
    "C = np.arange( x.size ); np.random.shuffle(C)\n",
    "C = C.reshape( x.shape )\n",
    "e = .01\n",
    "for i in range( uwr.shape[0] ):\n",
    "    for j in range( uwr.shape[1] ):\n",
    "        if uwr[i,j,1] < e:\n",
    "            c        = np.min( [C[i,j],C[i,j+1]] )\n",
    "            C[i,j  ] = c\n",
    "            C[i,j+1] = c\n",
    "        \n",
    "        if uwl[i,j,1] < e:\n",
    "            c        = np.min( [C[i,j],C[i+1,j]] )\n",
    "            C[i  ,j] = c\n",
    "            C[i+1,j] = c\n",
    "\n",
    "plt.imshow(C.T ,cmap='inferno')"
   ]
  },
  {
   "cell_type": "code",
   "execution_count": 76,
   "metadata": {},
   "outputs": [
    {
     "data": {
      "text/plain": [
       "1089"
      ]
     },
     "execution_count": 76,
     "metadata": {},
     "output_type": "execute_result"
    }
   ],
   "source": [
    "len( set( C.ravel() ) )"
   ]
  },
  {
   "cell_type": "markdown",
   "metadata": {},
   "source": [
    "### TOP"
   ]
  },
  {
   "cell_type": "code",
   "execution_count": null,
   "metadata": {},
   "outputs": [],
   "source": [
    "from multiprocessing import Pool\n",
    "R,L     = [],[]\n",
    "pool    = Pool(processes=20)\n",
    "#results = [ pool.apply_async(  entropy, args=(im[i:i+step,j:j+step],) ) for i,j in zip( x.ravel(),y.ravel() ) ]\n",
    "\n",
    "for i in x[0,:]:\n",
    "    for j in y[:,1]:\n",
    "        R.append(  pool.apply_async( entropy, args=( im[i:i+step,j:j+step]       .flatten(),\n",
    "                                                     im[i:i+step,j+step:j+2*step].flatten(),) )  )\n",
    "        #R.append(  pool.apply_async( entropy, args=(im[i:i+step,j:j+step],) )  )\n",
    "        \n",
    "H  = [r.get() for r in R]\n",
    "H  = np.array(H)"
   ]
  },
  {
   "cell_type": "code",
   "execution_count": 96,
   "metadata": {},
   "outputs": [],
   "source": [
    "H = "
   ]
  },
  {
   "cell_type": "code",
   "execution_count": null,
   "metadata": {},
   "outputs": [],
   "source": [
    "%%time\n",
    "C = np.arange( x.size ); np.random.shuffle(C)\n",
    "C = C.reshape( x.shape )\n",
    "e = 0.1\n",
    "for i in range( uwr.shape[0] ):\n",
    "    for j in range( uwr.shape[1] ):\n",
    "        #if uwr[i,j] < e:\n",
    "        if abs( output[i,j]-output[i,j+1] )<e:\n",
    "            c        = np.min( [C[i,j],C[i,j+1]] )\n",
    "            C[i,j  ] = c\n",
    "            C[i,j+1] = c\n",
    "        \n",
    "        #if uwl[i,j] < e:\n",
    "        if abs( output[i+1,j]-output[i,j] )<e:\n",
    "            c        = np.min( [C[i,j],C[i+1,j]] )\n",
    "            C[i  ,j] = c\n",
    "            C[i+1,j] = c\n",
    "C"
   ]
  },
  {
   "cell_type": "code",
   "execution_count": 79,
   "metadata": {},
   "outputs": [
    {
     "name": "stderr",
     "output_type": "stream",
     "text": [
      "/usr/local/lib/python2.7/dist-packages/scipy/stats/_distn_infrastructure.py:2508: RuntimeWarning: invalid value encountered in true_divide\n",
      "  pk = 1.0*pk / np.sum(pk, axis=0)\n",
      "/usr/local/lib/python2.7/dist-packages/scipy/stats/_distn_infrastructure.py:2508: RuntimeWarning: invalid value encountered in true_divide\n",
      "  pk = 1.0*pk / np.sum(pk, axis=0)\n",
      "/usr/local/lib/python2.7/dist-packages/scipy/stats/_distn_infrastructure.py:2508: RuntimeWarning: invalid value encountered in true_divide\n",
      "  pk = 1.0*pk / np.sum(pk, axis=0)\n",
      "/usr/local/lib/python2.7/dist-packages/scipy/stats/_distn_infrastructure.py:2508: RuntimeWarning: invalid value encountered in true_divide\n",
      "  pk = 1.0*pk / np.sum(pk, axis=0)\n",
      "/usr/local/lib/python2.7/dist-packages/scipy/stats/_distn_infrastructure.py:2508: RuntimeWarning: invalid value encountered in true_divide\n",
      "  pk = 1.0*pk / np.sum(pk, axis=0)\n",
      "/usr/local/lib/python2.7/dist-packages/scipy/stats/_distn_infrastructure.py:2508: RuntimeWarning: invalid value encountered in true_divide\n",
      "  pk = 1.0*pk / np.sum(pk, axis=0)\n",
      "/usr/local/lib/python2.7/dist-packages/scipy/stats/_distn_infrastructure.py:2508: RuntimeWarning: invalid value encountered in true_divide\n",
      "  pk = 1.0*pk / np.sum(pk, axis=0)\n",
      "/usr/local/lib/python2.7/dist-packages/scipy/stats/_distn_infrastructure.py:2508: RuntimeWarning: invalid value encountered in true_divide\n",
      "  pk = 1.0*pk / np.sum(pk, axis=0)\n",
      "/usr/local/lib/python2.7/dist-packages/scipy/stats/_distn_infrastructure.py:2508: RuntimeWarning: invalid value encountered in true_divide\n",
      "  pk = 1.0*pk / np.sum(pk, axis=0)\n",
      "/usr/local/lib/python2.7/dist-packages/scipy/stats/_distn_infrastructure.py:2508: RuntimeWarning: invalid value encountered in true_divide\n",
      "  pk = 1.0*pk / np.sum(pk, axis=0)\n",
      "/usr/local/lib/python2.7/dist-packages/scipy/stats/_distn_infrastructure.py:2508: RuntimeWarning: invalid value encountered in true_divide\n",
      "  pk = 1.0*pk / np.sum(pk, axis=0)\n",
      "/usr/local/lib/python2.7/dist-packages/scipy/stats/_distn_infrastructure.py:2508: RuntimeWarning: invalid value encountered in true_divide\n",
      "  pk = 1.0*pk / np.sum(pk, axis=0)\n",
      "/usr/local/lib/python2.7/dist-packages/scipy/stats/_distn_infrastructure.py:2508: RuntimeWarning: invalid value encountered in true_divide\n",
      "  pk = 1.0*pk / np.sum(pk, axis=0)\n",
      "/usr/local/lib/python2.7/dist-packages/scipy/stats/_distn_infrastructure.py:2508: RuntimeWarning: invalid value encountered in true_divide\n",
      "  pk = 1.0*pk / np.sum(pk, axis=0)\n",
      "/usr/local/lib/python2.7/dist-packages/scipy/stats/_distn_infrastructure.py:2508: RuntimeWarning: invalid value encountered in true_divide\n",
      "  pk = 1.0*pk / np.sum(pk, axis=0)\n",
      "/usr/local/lib/python2.7/dist-packages/scipy/stats/_distn_infrastructure.py:2508: RuntimeWarning: invalid value encountered in true_divide\n",
      "  pk = 1.0*pk / np.sum(pk, axis=0)\n",
      "/usr/local/lib/python2.7/dist-packages/scipy/stats/_distn_infrastructure.py:2508: RuntimeWarning: invalid value encountered in true_divide\n",
      "  pk = 1.0*pk / np.sum(pk, axis=0)\n",
      "/usr/local/lib/python2.7/dist-packages/scipy/stats/_distn_infrastructure.py:2508: RuntimeWarning: invalid value encountered in true_divide\n",
      "  pk = 1.0*pk / np.sum(pk, axis=0)\n",
      "/usr/local/lib/python2.7/dist-packages/scipy/stats/_distn_infrastructure.py:2508: RuntimeWarning: invalid value encountered in true_divide\n",
      "  pk = 1.0*pk / np.sum(pk, axis=0)\n",
      "/usr/local/lib/python2.7/dist-packages/scipy/stats/_distn_infrastructure.py:2508: RuntimeWarning: invalid value encountered in true_divide\n",
      "  pk = 1.0*pk / np.sum(pk, axis=0)\n"
     ]
    },
    {
     "name": "stdout",
     "output_type": "stream",
     "text": [
      "CPU times: user 104 ms, sys: 142 ms, total: 246 ms\n",
      "Wall time: 315 ms\n"
     ]
    }
   ],
   "source": [
    "%%time\n",
    "pool = Pool(processes=20)\n",
    "R    = []\n",
    "L    = []\n",
    "for i in range(s[0]-1):\n",
    "    for j in range(s[1]-1):\n",
    "        R.append(\n",
    "          pool.apply_async(  entropy, args=(im[i,j],output[i,j+1],) )\n",
    "        )\n",
    "        L.append(\n",
    "          pool.apply_async(  entropy, args=(output[i,j],output[i+1,j],) )\n",
    "        )\n",
    "        \n",
    "\n",
    "uwr  = [r.get() for r in R]\n",
    "uwl  = [l.get() for l in L]\n",
    "uwr  = np.array(uwr)\n",
    "uwl  = np.array(uwl)"
   ]
  },
  {
   "cell_type": "code",
   "execution_count": 51,
   "metadata": {},
   "outputs": [
    {
     "ename": "ValueError",
     "evalue": "cannot reshape array of size 2116 into shape (46,46,2116)",
     "output_type": "error",
     "traceback": [
      "\u001b[0;31m---------------------------------------------------------------------------\u001b[0m",
      "\u001b[0;31mValueError\u001b[0m                                Traceback (most recent call last)",
      "\u001b[0;32m<ipython-input-51-48279a3d9403>\u001b[0m in \u001b[0;36m<module>\u001b[0;34m()\u001b[0m\n\u001b[1;32m      1\u001b[0m \u001b[0ms\u001b[0m      \u001b[0;34m=\u001b[0m \u001b[0mx\u001b[0m\u001b[0;34m.\u001b[0m\u001b[0mshape\u001b[0m\u001b[0;34m\u001b[0m\u001b[0m\n\u001b[0;32m----> 2\u001b[0;31m \u001b[0moutput\u001b[0m \u001b[0;34m=\u001b[0m \u001b[0moutput\u001b[0m\u001b[0;34m.\u001b[0m\u001b[0mreshape\u001b[0m\u001b[0;34m(\u001b[0m \u001b[0ms\u001b[0m\u001b[0;34m[\u001b[0m\u001b[0;36m0\u001b[0m\u001b[0;34m]\u001b[0m\u001b[0;34m,\u001b[0m\u001b[0ms\u001b[0m\u001b[0;34m[\u001b[0m\u001b[0;36m1\u001b[0m\u001b[0;34m]\u001b[0m\u001b[0;34m,\u001b[0m\u001b[0moutput\u001b[0m\u001b[0;34m.\u001b[0m\u001b[0mshape\u001b[0m\u001b[0;34m[\u001b[0m\u001b[0;34m-\u001b[0m\u001b[0;36m1\u001b[0m\u001b[0;34m]\u001b[0m \u001b[0;34m)\u001b[0m\u001b[0;34m\u001b[0m\u001b[0m\n\u001b[0m\u001b[1;32m      3\u001b[0m \u001b[0mC\u001b[0m      \u001b[0;34m=\u001b[0m \u001b[0mnp\u001b[0m\u001b[0;34m.\u001b[0m\u001b[0marange\u001b[0m\u001b[0;34m(\u001b[0m \u001b[0mx\u001b[0m\u001b[0;34m.\u001b[0m\u001b[0msize\u001b[0m \u001b[0;34m)\u001b[0m\u001b[0;34m;\u001b[0m \u001b[0mnp\u001b[0m\u001b[0;34m.\u001b[0m\u001b[0mrandom\u001b[0m\u001b[0;34m.\u001b[0m\u001b[0mshuffle\u001b[0m\u001b[0;34m(\u001b[0m\u001b[0mC\u001b[0m\u001b[0;34m)\u001b[0m\u001b[0;34m\u001b[0m\u001b[0m\n\u001b[1;32m      4\u001b[0m \u001b[0mC\u001b[0m      \u001b[0;34m=\u001b[0m \u001b[0mC\u001b[0m\u001b[0;34m.\u001b[0m\u001b[0mreshape\u001b[0m\u001b[0;34m(\u001b[0m \u001b[0mx\u001b[0m\u001b[0;34m.\u001b[0m\u001b[0mshape\u001b[0m \u001b[0;34m)\u001b[0m\u001b[0;34m\u001b[0m\u001b[0m\n",
      "\u001b[0;31mValueError\u001b[0m: cannot reshape array of size 2116 into shape (46,46,2116)"
     ]
    }
   ],
   "source": [
    "s      = x.shape\n",
    "output = output.reshape( s[0],s[1],output.shape[-1] )\n",
    "C      = np.arange( x.size ); np.random.shuffle(C)\n",
    "C      = C.reshape( x.shape )"
   ]
  },
  {
   "cell_type": "code",
   "execution_count": 133,
   "metadata": {},
   "outputs": [
    {
     "ename": "ValueError",
     "evalue": "cannot reshape array of size 208080 into shape (102,102)",
     "output_type": "error",
     "traceback": [
      "\u001b[0;31m---------------------------------------------------------------------------\u001b[0m",
      "\u001b[0;31mValueError\u001b[0m                                Traceback (most recent call last)",
      "\u001b[0;32m<ipython-input-133-9bf6f99f30bb>\u001b[0m in \u001b[0;36m<module>\u001b[0;34m()\u001b[0m\n\u001b[1;32m      1\u001b[0m \u001b[0ms\u001b[0m      \u001b[0;34m=\u001b[0m \u001b[0mx\u001b[0m\u001b[0;34m.\u001b[0m\u001b[0mshape\u001b[0m\u001b[0;34m\u001b[0m\u001b[0m\n\u001b[0;32m----> 2\u001b[0;31m \u001b[0moutput\u001b[0m \u001b[0;34m=\u001b[0m \u001b[0moutput\u001b[0m\u001b[0;34m.\u001b[0m\u001b[0mreshape\u001b[0m\u001b[0;34m(\u001b[0m \u001b[0ms\u001b[0m\u001b[0;34m[\u001b[0m\u001b[0;36m0\u001b[0m\u001b[0;34m]\u001b[0m\u001b[0;34m,\u001b[0m\u001b[0ms\u001b[0m\u001b[0;34m[\u001b[0m\u001b[0;36m1\u001b[0m\u001b[0;34m]\u001b[0m \u001b[0;34m)\u001b[0m\u001b[0;34m\u001b[0m\u001b[0m\n\u001b[0m\u001b[1;32m      3\u001b[0m \u001b[0mC\u001b[0m      \u001b[0;34m=\u001b[0m \u001b[0mnp\u001b[0m\u001b[0;34m.\u001b[0m\u001b[0marange\u001b[0m\u001b[0;34m(\u001b[0m \u001b[0mx\u001b[0m\u001b[0;34m.\u001b[0m\u001b[0msize\u001b[0m \u001b[0;34m)\u001b[0m\u001b[0;34m;\u001b[0m \u001b[0mnp\u001b[0m\u001b[0;34m.\u001b[0m\u001b[0mrandom\u001b[0m\u001b[0;34m.\u001b[0m\u001b[0mshuffle\u001b[0m\u001b[0;34m(\u001b[0m\u001b[0mC\u001b[0m\u001b[0;34m)\u001b[0m\u001b[0;34m\u001b[0m\u001b[0m\n\u001b[1;32m      4\u001b[0m \u001b[0mC\u001b[0m      \u001b[0;34m=\u001b[0m \u001b[0mC\u001b[0m\u001b[0;34m.\u001b[0m\u001b[0mreshape\u001b[0m\u001b[0;34m(\u001b[0m \u001b[0mx\u001b[0m\u001b[0;34m.\u001b[0m\u001b[0mshape\u001b[0m \u001b[0;34m)\u001b[0m\u001b[0;34m\u001b[0m\u001b[0m\n\u001b[1;32m      5\u001b[0m \u001b[0ms\u001b[0m\u001b[0;34m\u001b[0m\u001b[0m\n",
      "\u001b[0;31mValueError\u001b[0m: cannot reshape array of size 208080 into shape (102,102)"
     ]
    }
   ],
   "source": [
    "s      = x.shape\n",
    "output = output.reshape( s[0],s[1] )\n",
    "C      = np.arange( x.size ); np.random.shuffle(C)\n",
    "C      = C.reshape( x.shape )\n",
    "s"
   ]
  },
  {
   "cell_type": "code",
   "execution_count": 52,
   "metadata": {},
   "outputs": [
    {
     "name": "stdout",
     "output_type": "stream",
     "text": [
      "CPU times: user 254 ms, sys: 211 ms, total: 466 ms\n",
      "Wall time: 464 ms\n"
     ]
    }
   ],
   "source": [
    "%%time\n",
    "from multiprocessing import Pool\n",
    "pool    = Pool(processes=20)\n",
    "results = [ pool.apply_async(  entropy, args=(im[i:i+step,j:j+step].flatten(),) ) for i,j in zip( x.ravel(),y.ravel() ) ]\n",
    "\n",
    "output  = [p.get() for p in results]\n",
    "output  = np.array(output)"
   ]
  },
  {
   "cell_type": "code",
   "execution_count": 24,
   "metadata": {},
   "outputs": [],
   "source": []
  },
  {
   "cell_type": "code",
   "execution_count": 55,
   "metadata": {},
   "outputs": [
    {
     "data": {
      "text/plain": [
       "(46, 46)"
      ]
     },
     "execution_count": 55,
     "metadata": {},
     "output_type": "execute_result"
    }
   ],
   "source": [
    "output.shape"
   ]
  },
  {
   "cell_type": "code",
   "execution_count": 40,
   "metadata": {},
   "outputs": [
    {
     "name": "stdout",
     "output_type": "stream",
     "text": [
      "CPU times: user 386 ms, sys: 171 ms, total: 556 ms\n",
      "Wall time: 532 ms\n"
     ]
    }
   ],
   "source": [
    "%%time\n",
    "from scipy.stats import entropy\n",
    "from multiprocessing import Pool\n",
    "pool = Pool(processes=20)\n",
    "R    = []\n",
    "L    = []\n",
    "for i in range(s[0]-1):\n",
    "    for j in range(s[1]-1):\n",
    "        R.append(\n",
    "          pool.apply_async(  entropy, args=(output[i,j],output[i,j+1],) )\n",
    "        )\n",
    "        L.append(\n",
    "          pool.apply_async(  entropy, args=(output[i,j],output[i+1,j],) )\n",
    "        )\n",
    "        \n",
    "\n",
    "uwr  = [r.get() for r in R]\n",
    "uwl  = [l.get() for l in L]\n",
    "uwr  = np.array(uwr)\n",
    "uwl  = np.array(uwl)"
   ]
  },
  {
   "cell_type": "code",
   "execution_count": 62,
   "metadata": {},
   "outputs": [
    {
     "data": {
      "text/plain": [
       "array([[813, 925, 350, ..., 113, 113, 113],\n",
       "       [813, 350, 350, ...,  27,  27,  27],\n",
       "       [350, 350, 210, ...,   6,   6,   6],\n",
       "       ...,\n",
       "       [  0,   0,   0, ...,   0,   0,   0],\n",
       "       [  0,   0,   0, ...,   0,   0,   0],\n",
       "       [  0,   0,   0, ...,   0,   0, 752]])"
      ]
     },
     "execution_count": 62,
     "metadata": {},
     "output_type": "execute_result"
    }
   ],
   "source": [
    "C = np.arange( x.size ); np.random.shuffle(C)\n",
    "C = C.reshape( x.shape )\n",
    "e = 0.1\n",
    "for i in range( uwr.shape[0] ):\n",
    "    for j in range( uwr.shape[1] ):\n",
    "        #if uwr[i,j] < e:\n",
    "        if abs( output[i,j]-output[i,j+1] )<e:\n",
    "            c        = np.min( [C[i,j],C[i,j+1]] )\n",
    "            C[i,j  ] = c\n",
    "            C[i,j+1] = c\n",
    "        \n",
    "        #if uwl[i,j] < e:\n",
    "        if abs( output[i+1,j]-output[i,j] )<e:\n",
    "            c        = np.min( [C[i,j],C[i+1,j]] )\n",
    "            C[i  ,j] = c\n",
    "            C[i+1,j] = c\n",
    "C"
   ]
  },
  {
   "cell_type": "code",
   "execution_count": 63,
   "metadata": {},
   "outputs": [
    {
     "data": {
      "text/plain": [
       "<matplotlib.image.AxesImage at 0x7f87a08c2490>"
      ]
     },
     "execution_count": 63,
     "metadata": {},
     "output_type": "execute_result"
    },
    {
     "data": {
      "image/png": "[encoded data removed]",
      "text/plain": [
       "<Figure size 432x288 with 1 Axes>"
      ]
     },
     "metadata": {},
     "output_type": "display_data"
    }
   ],
   "source": [
    "plt.imshow(-C.T,cmap='inferno')"
   ]
  },
  {
   "cell_type": "code",
   "execution_count": 64,
   "metadata": {},
   "outputs": [
    {
     "data": {
      "text/plain": [
       "{0,\n",
       " 2,\n",
       " 3,\n",
       " 5,\n",
       " 6,\n",
       " 8,\n",
       " 9,\n",
       " 11,\n",
       " 13,\n",
       " 14,\n",
       " 15,\n",
       " 18,\n",
       " 23,\n",
       " 24,\n",
       " 25,\n",
       " 26,\n",
       " 27,\n",
       " 28,\n",
       " 35,\n",
       " 38,\n",
       " 39,\n",
       " 42,\n",
       " 51,\n",
       " 53,\n",
       " 58,\n",
       " 65,\n",
       " 66,\n",
       " 68,\n",
       " 74,\n",
       " 77,\n",
       " 79,\n",
       " 85,\n",
       " 93,\n",
       " 95,\n",
       " 97,\n",
       " 102,\n",
       " 104,\n",
       " 105,\n",
       " 109,\n",
       " 110,\n",
       " 113,\n",
       " 118,\n",
       " 123,\n",
       " 129,\n",
       " 138,\n",
       " 142,\n",
       " 144,\n",
       " 158,\n",
       " 168,\n",
       " 171,\n",
       " 184,\n",
       " 189,\n",
       " 202,\n",
       " 203,\n",
       " 208,\n",
       " 210,\n",
       " 214,\n",
       " 216,\n",
       " 221,\n",
       " 230,\n",
       " 232,\n",
       " 236,\n",
       " 237,\n",
       " 243,\n",
       " 252,\n",
       " 262,\n",
       " 269,\n",
       " 283,\n",
       " 291,\n",
       " 301,\n",
       " 312,\n",
       " 328,\n",
       " 338,\n",
       " 350,\n",
       " 352,\n",
       " 353,\n",
       " 356,\n",
       " 365,\n",
       " 393,\n",
       " 394,\n",
       " 395,\n",
       " 406,\n",
       " 410,\n",
       " 414,\n",
       " 418,\n",
       " 419,\n",
       " 436,\n",
       " 442,\n",
       " 443,\n",
       " 461,\n",
       " 472,\n",
       " 497,\n",
       " 503,\n",
       " 504,\n",
       " 505,\n",
       " 512,\n",
       " 521,\n",
       " 526,\n",
       " 547,\n",
       " 551,\n",
       " 562,\n",
       " 582,\n",
       " 595,\n",
       " 599,\n",
       " 607,\n",
       " 614,\n",
       " 621,\n",
       " 629,\n",
       " 637,\n",
       " 643,\n",
       " 645,\n",
       " 646,\n",
       " 647,\n",
       " 652,\n",
       " 653,\n",
       " 710,\n",
       " 722,\n",
       " 727,\n",
       " 728,\n",
       " 729,\n",
       " 750,\n",
       " 752,\n",
       " 756,\n",
       " 776,\n",
       " 783,\n",
       " 787,\n",
       " 805,\n",
       " 811,\n",
       " 813,\n",
       " 833,\n",
       " 835,\n",
       " 841,\n",
       " 848,\n",
       " 880,\n",
       " 881,\n",
       " 887,\n",
       " 898,\n",
       " 917,\n",
       " 918,\n",
       " 925,\n",
       " 940,\n",
       " 956,\n",
       " 968,\n",
       " 975,\n",
       " 985,\n",
       " 987,\n",
       " 994,\n",
       " 995,\n",
       " 1019,\n",
       " 1020,\n",
       " 1024,\n",
       " 1040,\n",
       " 1057,\n",
       " 1058,\n",
       " 1059,\n",
       " 1071,\n",
       " 1081,\n",
       " 1087,\n",
       " 1091,\n",
       " 1093,\n",
       " 1136,\n",
       " 1137,\n",
       " 1139,\n",
       " 1145,\n",
       " 1177,\n",
       " 1206,\n",
       " 1217,\n",
       " 1254,\n",
       " 1264,\n",
       " 1266,\n",
       " 1268,\n",
       " 1274,\n",
       " 1307,\n",
       " 1312,\n",
       " 1336,\n",
       " 1342,\n",
       " 1356,\n",
       " 1372,\n",
       " 1380,\n",
       " 1381,\n",
       " 1407,\n",
       " 1418,\n",
       " 1419,\n",
       " 1437,\n",
       " 1463,\n",
       " 1468,\n",
       " 1479,\n",
       " 1482,\n",
       " 1483,\n",
       " 1485,\n",
       " 1488,\n",
       " 1498,\n",
       " 1518,\n",
       " 1531,\n",
       " 1564,\n",
       " 1573,\n",
       " 1614,\n",
       " 1637,\n",
       " 1638,\n",
       " 1657,\n",
       " 1696,\n",
       " 1700,\n",
       " 1734,\n",
       " 1810,\n",
       " 1844,\n",
       " 1883,\n",
       " 1905,\n",
       " 1908,\n",
       " 1920,\n",
       " 1923,\n",
       " 1935,\n",
       " 1942,\n",
       " 1945,\n",
       " 1958,\n",
       " 1967,\n",
       " 2022,\n",
       " 2028,\n",
       " 2063,\n",
       " 2082,\n",
       " 2092}"
      ]
     },
     "execution_count": 64,
     "metadata": {},
     "output_type": "execute_result"
    }
   ],
   "source": [
    "set(C.ravel())"
   ]
  },
  {
   "cell_type": "code",
   "execution_count": 60,
   "metadata": {},
   "outputs": [],
   "source": [
    "C[ C>17 ] = 17"
   ]
  },
  {
   "cell_type": "code",
   "execution_count": 65,
   "metadata": {},
   "outputs": [
    {
     "data": {
      "text/plain": [
       "<matplotlib.image.AxesImage at 0x7f87906efc50>"
      ]
     },
     "execution_count": 65,
     "metadata": {},
     "output_type": "execute_result"
    },
    {
     "data": {
      "image/png": "[encoded data removed]",
      "text/plain": [
       "<Figure size 432x288 with 1 Axes>"
      ]
     },
     "metadata": {},
     "output_type": "display_data"
    }
   ],
   "source": [
    "plt.imshow(-C.T,cmap='inferno')"
   ]
  },
  {
   "cell_type": "code",
   "execution_count": 159,
   "metadata": {},
   "outputs": [
    {
     "ename": "IndexError",
     "evalue": "too many indices for array",
     "output_type": "error",
     "traceback": [
      "\u001b[0;31m---------------------------------------------------------------------------\u001b[0m",
      "\u001b[0;31mIndexError\u001b[0m                                Traceback (most recent call last)",
      "\u001b[0;32m<ipython-input-159-d9c8cdf59513>\u001b[0m in \u001b[0;36m<module>\u001b[0;34m()\u001b[0m\n\u001b[1;32m      4\u001b[0m \u001b[0;32mfor\u001b[0m \u001b[0mi\u001b[0m \u001b[0;32min\u001b[0m \u001b[0mrange\u001b[0m\u001b[0;34m(\u001b[0m \u001b[0muwr\u001b[0m\u001b[0;34m.\u001b[0m\u001b[0mshape\u001b[0m\u001b[0;34m[\u001b[0m\u001b[0;36m0\u001b[0m\u001b[0;34m]\u001b[0m \u001b[0;34m)\u001b[0m\u001b[0;34m:\u001b[0m\u001b[0;34m\u001b[0m\u001b[0m\n\u001b[1;32m      5\u001b[0m     \u001b[0;32mfor\u001b[0m \u001b[0mj\u001b[0m \u001b[0;32min\u001b[0m \u001b[0mrange\u001b[0m\u001b[0;34m(\u001b[0m \u001b[0muwr\u001b[0m\u001b[0;34m.\u001b[0m\u001b[0mshape\u001b[0m\u001b[0;34m[\u001b[0m\u001b[0;36m1\u001b[0m\u001b[0;34m]\u001b[0m \u001b[0;34m)\u001b[0m\u001b[0;34m:\u001b[0m\u001b[0;34m\u001b[0m\u001b[0m\n\u001b[0;32m----> 6\u001b[0;31m         \u001b[0;32mif\u001b[0m \u001b[0muwr\u001b[0m\u001b[0;34m[\u001b[0m\u001b[0mi\u001b[0m\u001b[0;34m,\u001b[0m\u001b[0mj\u001b[0m\u001b[0;34m,\u001b[0m\u001b[0;36m1\u001b[0m\u001b[0;34m]\u001b[0m \u001b[0;34m<\u001b[0m \u001b[0me\u001b[0m\u001b[0;34m:\u001b[0m\u001b[0;34m\u001b[0m\u001b[0m\n\u001b[0m\u001b[1;32m      7\u001b[0m             \u001b[0mc\u001b[0m        \u001b[0;34m=\u001b[0m \u001b[0mnp\u001b[0m\u001b[0;34m.\u001b[0m\u001b[0mmin\u001b[0m\u001b[0;34m(\u001b[0m \u001b[0;34m[\u001b[0m\u001b[0mC\u001b[0m\u001b[0;34m[\u001b[0m\u001b[0mi\u001b[0m\u001b[0;34m,\u001b[0m\u001b[0mj\u001b[0m\u001b[0;34m]\u001b[0m\u001b[0;34m,\u001b[0m\u001b[0mC\u001b[0m\u001b[0;34m[\u001b[0m\u001b[0mi\u001b[0m\u001b[0;34m,\u001b[0m\u001b[0mj\u001b[0m\u001b[0;34m+\u001b[0m\u001b[0;36m1\u001b[0m\u001b[0;34m]\u001b[0m\u001b[0;34m]\u001b[0m \u001b[0;34m)\u001b[0m\u001b[0;34m\u001b[0m\u001b[0m\n\u001b[1;32m      8\u001b[0m             \u001b[0mC\u001b[0m\u001b[0;34m[\u001b[0m\u001b[0mi\u001b[0m\u001b[0;34m,\u001b[0m\u001b[0mj\u001b[0m  \u001b[0;34m]\u001b[0m \u001b[0;34m=\u001b[0m \u001b[0mc\u001b[0m\u001b[0;34m\u001b[0m\u001b[0m\n",
      "\u001b[0;31mIndexError\u001b[0m: too many indices for array"
     ]
    }
   ],
   "source": [
    "C = np.arange( x.size ); np.random.shuffle(C)\n",
    "C = C.reshape( x.shape )\n",
    "e = 0.01\n",
    "for i in range( uwr.shape[0] ):\n",
    "    for j in range( uwr.shape[1] ):\n",
    "        if uwr[i,j,1] < e:\n",
    "            c        = np.min( [C[i,j],C[i,j+1]] )\n",
    "            C[i,j  ] = c\n",
    "            C[i,j+1] = c\n",
    "        \n",
    "        if uwl[i,j,1] < e:\n",
    "            c        = np.min( [C[i,j],C[i+1,j]] )\n",
    "            C[i  ,j] = c\n",
    "            C[i+1,j] = c\n",
    "C"
   ]
  }
 ],
 "metadata": {
  "kernelspec": {
   "display_name": "Python 2",
   "language": "python",
   "name": "python2"
  },
  "language_info": {
   "codemirror_mode": {
    "name": "ipython",
    "version": 2
   },
   "file_extension": ".py",
   "mimetype": "text/x-python",
   "name": "python",
   "nbconvert_exporter": "python",
   "pygments_lexer": "ipython2",
   "version": "2.7.14"
  }
 },
 "nbformat": 4,
 "nbformat_minor": 2
}
