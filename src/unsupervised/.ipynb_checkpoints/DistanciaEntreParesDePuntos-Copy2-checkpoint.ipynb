{
 "cells": [
  {
   "cell_type": "code",
   "execution_count": 1,
   "metadata": {
    "colab": {},
    "colab_type": "code",
    "id": "kLhPnSMLGech"
   },
   "outputs": [],
   "source": [
    "import numpy\n",
    "import numpy as np\n",
    "import matplotlib.pyplot as plt\n",
    "%matplotlib inline"
   ]
  },
  {
   "cell_type": "code",
   "execution_count": 2,
   "metadata": {
    "colab": {},
    "colab_type": "code",
    "id": "DA798bmPG1xf"
   },
   "outputs": [],
   "source": [
    "def dist_eucl2(X,C):\n",
    "    D  = X[:,:,np.newaxis] - np.transpose( C[np.newaxis],(0,2,1) )\n",
    "    D  = np.transpose(D,(0,2,1))\n",
    "    D  = np.square(D).sum(axis=-1)\n",
    "    #return np.argsort(D,axis=1).copy()\n",
    "    return D\n",
    "\n",
    "def dist_eucl_pw(X,C,p):\n",
    "    D  = X[:,:,np.newaxis] - np.transpose( C[np.newaxis],(0,2,1) )\n",
    "    D  = np.transpose(D,(0,2,1))\n",
    "    D  = np.power(D,p).sum(axis=-1)\n",
    "    #return np.argsort(D,axis=1).copy()\n",
    "    return D\n"
   ]
  },
  {
   "cell_type": "code",
   "execution_count": 3,
   "metadata": {
    "colab": {
     "base_uri": "https://localhost:8080/",
     "height": 268
    },
    "colab_type": "code",
    "executionInfo": {
     "elapsed": 443,
     "status": "ok",
     "timestamp": 1538090625240,
     "user": {
      "displayName": "Oscar Yáñez",
      "photoUrl": "",
      "userId": "17374698393674571684"
     },
     "user_tz": 300
    },
    "id": "JCicXh8vGiVD",
    "outputId": "59ea8f7c-1f19-4560-ece4-b95f50b2f5fe"
   },
   "outputs": [
    {
     "data": {
      "image/png": "[encoded data removed]",
      "text/plain": [
       "<matplotlib.figure.Figure at 0x7f75176122d0>"
      ]
     },
     "metadata": {},
     "output_type": "display_data"
    }
   ],
   "source": [
    "# Genera datos aleatorios en 2D: 10 puntos, 4 centros\n",
    "N = 20\n",
    "\n",
    "mean = [-1, -1]\n",
    "cov  = [[1, 0], [0, 1]]\n",
    "X    = np.random.multivariate_normal(mean, cov, N)\n",
    "\n",
    "mean = [2, 2]\n",
    "cov  = [[1.5, 0], [0,1]]\n",
    "C    = np.random.multivariate_normal(mean, cov, N)\n",
    "\n",
    "plt.figure(figsize=(15,4))\n",
    "plt.scatter(X[:,0], X[:,1], color='black');\n",
    "plt.scatter(C[:,0], C[:,1], color='red');\n",
    "plt.grid(True)"
   ]
  },
  {
   "cell_type": "code",
   "execution_count": 4,
   "metadata": {},
   "outputs": [
    {
     "data": {
      "text/plain": [
       "(40, 2)"
      ]
     },
     "execution_count": 4,
     "metadata": {},
     "output_type": "execute_result"
    }
   ],
   "source": [
    "XX = np.concatenate( [X,C] )\n",
    "XX.shape"
   ]
  },
  {
   "cell_type": "code",
   "execution_count": 30,
   "metadata": {},
   "outputs": [],
   "source": [
    "S = dist_eucl2(XX,XX)"
   ]
  }
 ],
 "metadata": {
  "colab": {
   "collapsed_sections": [],
   "name": "DistanciaEntreParesDePuntos.ipynb",
   "provenance": [],
   "toc_visible": true,
   "version": "0.3.2"
  },
  "kernelspec": {
   "display_name": "Python 2",
   "language": "python",
   "name": "python2"
  },
  "language_info": {
   "codemirror_mode": {
    "name": "ipython",
    "version": 2
   },
   "file_extension": ".py",
   "mimetype": "text/x-python",
   "name": "python",
   "nbconvert_exporter": "python",
   "pygments_lexer": "ipython2",
   "version": "2.7.15rc1"
  }
 },
 "nbformat": 4,
 "nbformat_minor": 1
}
