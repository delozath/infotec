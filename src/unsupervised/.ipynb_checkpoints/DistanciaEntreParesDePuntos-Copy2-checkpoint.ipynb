{
 "cells": [
  {
   "cell_type": "code",
   "execution_count": 1,
   "metadata": {
    "colab": {},
    "colab_type": "code",
    "id": "kLhPnSMLGech"
   },
   "outputs": [],
   "source": [
    "import numpy\n",
    "import numpy as np\n",
    "import matplotlib.pyplot as plt\n",
    "%matplotlib inline"
   ]
  },
  {
   "cell_type": "code",
   "execution_count": 2,
   "metadata": {
    "colab": {},
    "colab_type": "code",
    "id": "DA798bmPG1xf"
   },
   "outputs": [],
   "source": [
    "def dist_eucl2(X,C):\n",
    "    D  = X[:,:,np.newaxis] - np.transpose( C[np.newaxis],(0,2,1) )\n",
    "    D  = np.transpose(D,(0,2,1))\n",
    "    D  = np.square(D).sum(axis=-1)\n",
    "    #return np.argsort(D,axis=1).copy()\n",
    "    return D\n",
    "\n",
    "def dist_eucl_pw(X,C,p):\n",
    "    D  = X[:,:,np.newaxis] - np.transpose( C[np.newaxis],(0,2,1) )\n",
    "    D  = np.transpose(D,(0,2,1))\n",
    "    D  = np.power(D,p).sum(axis=-1)\n",
    "    #return np.argsort(D,axis=1).copy()\n",
    "    return D\n"
   ]
  },
  {
   "cell_type": "code",
   "execution_count": 26,
   "metadata": {
    "colab": {
     "base_uri": "https://localhost:8080/",
     "height": 268
    },
    "colab_type": "code",
    "executionInfo": {
     "elapsed": 443,
     "status": "ok",
     "timestamp": 1538090625240,
     "user": {
      "displayName": "Oscar Yáñez",
      "photoUrl": "",
      "userId": "17374698393674571684"
     },
     "user_tz": 300
    },
    "id": "JCicXh8vGiVD",
    "outputId": "59ea8f7c-1f19-4560-ece4-b95f50b2f5fe"
   },
   "outputs": [
    {
     "data": {
      "image/png": "[encoded data removed]",
      "text/plain": [
       "<matplotlib.figure.Figure at 0x7f10976ad790>"
      ]
     },
     "metadata": {},
     "output_type": "display_data"
    }
   ],
   "source": [
    "# Genera datos aleatorios en 2D: 10 puntos, 4 centros\n",
    "N = 20\n",
    "\n",
    "mean = [-1, -1]\n",
    "cov  = [[1, 0], [0, 1]]\n",
    "X    = np.random.multivariate_normal(mean, cov, N)\n",
    "\n",
    "mean = [20, 20]\n",
    "cov  = [[1.5, 0], [0,1]]\n",
    "C    = np.random.multivariate_normal(mean, cov, N)\n",
    "\n",
    "plt.figure(figsize=(15,4))\n",
    "plt.scatter(X[:,0], X[:,1], color='black');\n",
    "plt.scatter(C[:,0], C[:,1], color='red');\n",
    "plt.grid(True)"
   ]
  },
  {
   "cell_type": "code",
   "execution_count": 27,
   "metadata": {},
   "outputs": [
    {
     "data": {
      "text/plain": [
       "(40, 2)"
      ]
     },
     "execution_count": 27,
     "metadata": {},
     "output_type": "execute_result"
    }
   ],
   "source": [
    "XX = np.concatenate( [X,C] )\n",
    "XX.shape"
   ]
  },
  {
   "cell_type": "code",
   "execution_count": 28,
   "metadata": {},
   "outputs": [],
   "source": [
    "# Encuentra vecinos de X en C\n",
    "S = -dist_eucl2  (XX,XX  )\n",
    "#S = -dist_eucl_pw(XX,XX,2.)"
   ]
  },
  {
   "cell_type": "code",
   "execution_count": 29,
   "metadata": {},
   "outputs": [],
   "source": [
    "A  = np.zeros(S.shape)\n",
    "R  = np.zeros(S.shape)\n",
    "dp = 0.9"
   ]
  },
  {
   "cell_type": "code",
   "execution_count": 30,
   "metadata": {},
   "outputs": [],
   "source": [
    "v    = S + A\n",
    "rows = np.arange(S.shape[0])\n",
    "\n",
    "np.fill_diagonal(v, -np.inf)\n",
    "\n",
    "idx_max   = np.argmax(v, axis=1)\n",
    "first_max = v[rows, idx_max]\n",
    "\n",
    "v[rows, idx_max] = -np.inf\n",
    "second_max       = v[rows, np.argmax(v, axis=1)]\n",
    "\n",
    "max_matrix                = np.zeros_like(R) + first_max[:, None]\n",
    "max_matrix[rows, idx_max] = second_max\n",
    "\n",
    "new_val = S - max_matrix\n",
    "R       = R * dp + (1 - dp) * new_val"
   ]
  },
  {
   "cell_type": "code",
   "execution_count": 31,
   "metadata": {},
   "outputs": [
    {
     "data": {
      "text/plain": [
       "array([[  4.48410644e-03,  -3.71124186e-01,  -2.17164086e-01, ...,\n",
       "         -9.14595215e+01,  -8.76316578e+01,  -8.56814833e+01],\n",
       "       [ -3.44055053e-01,   3.15532395e-02,   4.33328810e-02, ...,\n",
       "         -9.00842742e+01,  -8.56657667e+01,  -8.44626467e+01],\n",
       "       [ -2.04704444e-01,  -1.46094916e-02,   1.69437478e-02, ...,\n",
       "         -9.21299104e+01,  -8.78031989e+01,  -8.64153903e+01],\n",
       "       ..., \n",
       "       [ -9.14355763e+01,  -9.00873980e+01,  -9.21184248e+01, ...,\n",
       "          2.84293854e-02,  -2.88274296e-01,  -7.29967988e-02],\n",
       "       [ -8.76149971e+01,  -8.56761751e+01,  -8.77989978e+01, ...,\n",
       "         -2.95558871e-01,   2.11448102e-02,  -3.50314224e-01],\n",
       "       [ -8.56622875e+01,  -8.44705201e+01,  -8.64086542e+01, ...,\n",
       "         -7.77463218e-02,  -3.47779172e-01,   2.36798624e-02]])"
      ]
     },
     "execution_count": 31,
     "metadata": {},
     "output_type": "execute_result"
    }
   ],
   "source": [
    "R"
   ]
  },
  {
   "cell_type": "code",
   "execution_count": 32,
   "metadata": {},
   "outputs": [],
   "source": [
    "k_k_idx = np.arange(R.shape[0])\n",
    "\n",
    "a        = np.array(R)\n",
    "a[a < 0] = 0\n",
    "\n",
    "np.fill_diagonal(a, 0)\n",
    "a = a.sum(axis=0) \n",
    "a = a + R[k_k_idx, k_k_idx]\n",
    "\n",
    "a = np.ones(A.shape) * a\n",
    "\n",
    "a        -= np.clip(R, 0, np.inf)\n",
    "a[a > 0]  = 0'\n",
    "\n",
    "w = np.array(R)\n",
    "np.fill_diagonal(w, 0)\n",
    "\n",
    "w[w < 0] = 0\n",
    "\n",
    "a[k_k_idx, k_k_idx] = w.sum(axis=0)\n",
    "\n",
    "A = A * dp + (1 - dp) * a"
   ]
  },
  {
   "cell_type": "code",
   "execution_count": 33,
   "metadata": {},
   "outputs": [
    {
     "data": {
      "text/plain": [
       "array([ 0,  1,  2,  3, 19,  5,  6,  7, 10,  9,  8, 11, 12, 13, 17,  0, 16,\n",
       "       14, 12,  4, 20, 21, 28, 37, 24, 31, 26, 27, 22, 29, 30, 31, 32, 33,\n",
       "       34, 35, 36, 37, 33, 27])"
      ]
     },
     "execution_count": 33,
     "metadata": {},
     "output_type": "execute_result"
    }
   ],
   "source": [
    "labels"
   ]
  },
  {
   "cell_type": "code",
   "execution_count": 15,
   "metadata": {},
   "outputs": [],
   "source": [
    "sol       = A + R\n",
    "labels    = np.argmax(sol, axis=1)\n",
    "exemplars = np.unique(labels)\n",
    "colors    = dict(zip(exemplars, ('bgrcmyk')))"
   ]
  },
  {
   "cell_type": "code",
   "execution_count": 16,
   "metadata": {},
   "outputs": [
    {
     "data": {
      "text/plain": [
       "array([ 0,  1,  2,  3, 19,  5,  6,  7, 10,  9,  8, 11, 12, 13, 17,  0, 16,\n",
       "       14, 12,  4, 20, 21, 28, 37, 24, 31, 26, 27, 22, 29, 30, 31, 32, 33,\n",
       "       34, 35, 36, 37, 33, 27])"
      ]
     },
     "execution_count": 16,
     "metadata": {},
     "output_type": "execute_result"
    }
   ],
   "source": [
    "labels"
   ]
  },
  {
   "cell_type": "code",
   "execution_count": 17,
   "metadata": {},
   "outputs": [
    {
     "data": {
      "text/plain": [
       "array([ 0,  1,  2,  3,  4,  5,  6,  7,  8,  9, 10, 11, 12, 13, 14, 16, 17,\n",
       "       19, 20, 21, 22, 24, 26, 27, 28, 29, 30, 31, 32, 33, 34, 35, 36, 37])"
      ]
     },
     "execution_count": 17,
     "metadata": {},
     "output_type": "execute_result"
    }
   ],
   "source": [
    "exemplars"
   ]
  },
  {
   "cell_type": "code",
   "execution_count": null,
   "metadata": {},
   "outputs": [],
   "source": []
  },
  {
   "cell_type": "code",
   "execution_count": 28,
   "metadata": {},
   "outputs": [],
   "source": [
    "id_x = np.arange(X.shape[0])\n",
    "id_c = np.arange(C.shape[0])"
   ]
  },
  {
   "cell_type": "code",
   "execution_count": 43,
   "metadata": {},
   "outputs": [
    {
     "data": {
      "text/plain": [
       "array([68, 44, 99, 22, 71, 46, 93, 12, 74,  0, 62, 26, 73, 59, 27, 76, 28,\n",
       "       39, 34, 33, 86, 55,  2, 42, 29, 14, 16, 64, 40,  9, 37, 84, 90, 17,\n",
       "       13, 48, 80, 52, 18, 87,  5, 60, 72, 79,  1, 20, 75, 21, 81, 88, 32,\n",
       "       50, 53, 61, 25, 82, 30, 67, 97, 15,  7, 31, 51, 78, 77, 38, 91, 19,\n",
       "       65, 63, 41, 66, 49, 35, 24, 83, 47,  3, 11, 45, 58, 98, 89,  4, 96,\n",
       "       69, 92, 10, 85, 70, 95,  8, 36, 56, 43, 57, 54,  6, 23, 94])"
      ]
     },
     "execution_count": 43,
     "metadata": {},
     "output_type": "execute_result"
    }
   ],
   "source": [
    "N    = 100\n",
    "path = np.arange(N)\n",
    "np.random.shuffle(path)\n",
    "path"
   ]
  },
  {
   "cell_type": "code",
   "execution_count": 72,
   "metadata": {},
   "outputs": [
    {
     "data": {
      "text/plain": [
       "array([[ 8.        ,  9.4541238 ],\n",
       "       [ 6.        , 22.66960369],\n",
       "       [ 3.        , 32.67588032],\n",
       "       [ 5.        ,  9.89516795],\n",
       "       [ 3.        ,  5.26239639],\n",
       "       [ 6.        , 26.20016208],\n",
       "       [ 0.        , 19.58559271],\n",
       "       [ 5.        ,  5.96180128],\n",
       "       [ 9.        ,  3.30055527],\n",
       "       [ 1.        , 20.90509029],\n",
       "       [ 1.        ,  9.26205437],\n",
       "       [ 4.        ,  6.0830671 ],\n",
       "       [ 0.        , 14.80728883],\n",
       "       [ 3.        , 26.03424375],\n",
       "       [ 2.        , 41.33615534],\n",
       "       [ 1.        ,  6.84711101],\n",
       "       [ 6.        , 16.44823353],\n",
       "       [ 0.        , 19.58559271],\n",
       "       [ 6.        , 21.66840977],\n",
       "       [ 8.        , 40.57197395],\n",
       "       [ 6.        , 22.66960369],\n",
       "       [ 0.        , 19.58559271],\n",
       "       [ 9.        , 26.18020522],\n",
       "       [ 8.        , 41.98388045],\n",
       "       [ 5.        ,  9.61495024],\n",
       "       [ 2.        , 11.03538872],\n",
       "       [ 7.        , 24.54794549],\n",
       "       [ 1.        , 17.85655546],\n",
       "       [ 9.        , 20.44131476],\n",
       "       [ 3.        , 40.16404144],\n",
       "       [ 4.        , 11.92240374],\n",
       "       [ 1.        , 12.19812962],\n",
       "       [ 4.        ,  6.0830671 ],\n",
       "       [ 7.        , 32.82626154],\n",
       "       [ 4.        , 20.23496522],\n",
       "       [ 8.        , 30.56797708],\n",
       "       [ 7.        , 30.45040467],\n",
       "       [ 3.        , 38.05433999],\n",
       "       [ 6.        , 26.20016208],\n",
       "       [ 5.        , 18.46814475],\n",
       "       [ 7.        , 10.86058467],\n",
       "       [ 9.        , 32.31208676],\n",
       "       [ 9.        , 37.48442278],\n",
       "       [ 5.        , 15.43975349],\n",
       "       [ 0.        ,  1.24421574],\n",
       "       [ 4.        ,  9.4564863 ],\n",
       "       [ 0.        , 14.80728883],\n",
       "       [ 0.        , 13.65217647],\n",
       "       [ 0.        , 13.65217647],\n",
       "       [ 2.        , 38.7839272 ],\n",
       "       [ 9.        , 17.35307204],\n",
       "       [ 2.        , 55.64782355],\n",
       "       [ 6.        , 18.07043455],\n",
       "       [ 4.        , 18.20916744],\n",
       "       [ 5.        ,  9.26867364],\n",
       "       [ 5.        ,  4.10533528],\n",
       "       [ 9.        ,  3.30055527],\n",
       "       [ 6.        , 36.56186805],\n",
       "       [ 8.        , 40.57197395],\n",
       "       [ 1.        ,  8.22514567],\n",
       "       [ 8.        , 19.6152432 ],\n",
       "       [ 7.        , 30.45040467],\n",
       "       [ 3.        , 38.05433999],\n",
       "       [ 5.        ,  9.89516795],\n",
       "       [ 5.        ,  4.10533528],\n",
       "       [ 1.        ,  0.11549519],\n",
       "       [ 1.        ,  9.26205437],\n",
       "       [ 4.        ,  6.0830671 ],\n",
       "       [ 1.        , 12.19812962],\n",
       "       [ 5.        ,  3.43778954],\n",
       "       [ 4.        ,  1.87793447],\n",
       "       [ 9.        , 25.41771194],\n",
       "       [ 7.        , 44.50374298],\n",
       "       [ 7.        , 47.16503371],\n",
       "       [ 5.        , 18.90678587],\n",
       "       [ 7.        , 10.86058467],\n",
       "       [ 7.        , 47.16503371],\n",
       "       [ 6.        , 37.47972317],\n",
       "       [ 4.        , 18.20916744],\n",
       "       [ 1.        , 12.19812962],\n",
       "       [ 3.        , 20.19045929],\n",
       "       [ 8.        , 31.35977467],\n",
       "       [ 8.        , 28.12059037],\n",
       "       [ 4.        ,  9.96344904],\n",
       "       [ 0.        , 14.80728883],\n",
       "       [ 3.        , 26.03424375],\n",
       "       [ 1.        , 12.15525474],\n",
       "       [ 8.        , 19.6152432 ],\n",
       "       [ 7.        , 30.45040467],\n",
       "       [ 2.        , 52.22463061],\n",
       "       [ 5.        ,  5.62396388],\n",
       "       [ 5.        ,  4.10533528],\n",
       "       [ 1.        ,  0.11549519],\n",
       "       [ 6.        , 16.44823353],\n",
       "       [ 5.        , 18.46814475],\n",
       "       [ 6.        ,  6.10367418],\n",
       "       [ 1.        , 14.13175143],\n",
       "       [ 4.        ,  6.0830671 ],\n",
       "       [ 0.        , 14.80728883],\n",
       "       [ 9.        , 26.18020522]])"
      ]
     },
     "execution_count": 72,
     "metadata": {},
     "output_type": "execute_result"
    }
   ],
   "source": [
    "M    = []\n",
    "bot  = np.random.randint(X.shape[0])\n",
    "step = np.random.randint(C.shape[0])\n",
    "for i in range(N):\n",
    "    bot  = step\n",
    "    step = np.random.randint(C.shape[0])\n",
    "    M.append(  [ step,nna[ bot,step ] ] )\n",
    "\n",
    "M = np.array(M)\n",
    "M"
   ]
  },
  {
   "cell_type": "code",
   "execution_count": 71,
   "metadata": {},
   "outputs": [
    {
     "data": {
      "text/plain": [
       "(array([ 4.,  8., 14.,  7., 13., 12., 11.,  9., 22.]),\n",
       " array([0., 1., 2., 3., 4., 5., 6., 7., 8., 9.]),\n",
       " <a list of 9 Patch objects>)"
      ]
     },
     "execution_count": 71,
     "metadata": {},
     "output_type": "execute_result"
    },
    {
     "data": {
      "image/png": "[encoded data removed]",
      "text/plain": [
       "<Figure size 432x288 with 1 Axes>"
      ]
     },
     "metadata": {},
     "output_type": "display_data"
    }
   ],
   "source": [
    "#idm = np.argsort(M,axis=0)\n",
    "bins = list( set( M[:,0] ) )\n",
    "#np.histogram( M[:,1],bins=bins )\n",
    "plt.hist( M[:,0],bins=bins )\n"
   ]
  },
  {
   "cell_type": "code",
   "execution_count": null,
   "metadata": {},
   "outputs": [],
   "source": []
  },
  {
   "cell_type": "code",
   "execution_count": 56,
   "metadata": {
    "colab": {
     "base_uri": "https://localhost:8080/",
     "height": 268
    },
    "colab_type": "code",
    "executionInfo": {
     "elapsed": 491,
     "status": "ok",
     "timestamp": 1538090632607,
     "user": {
      "displayName": "Oscar Yáñez",
      "photoUrl": "",
      "userId": "17374698393674571684"
     },
     "user_tz": 300
    },
    "id": "hORZLan9IJNd",
    "outputId": "0cefd968-91b2-4ae1-b0c5-ccfab255c261"
   },
   "outputs": [
    {
     "name": "stdout",
     "output_type": "stream",
     "text": [
      "[1 0 0 1 0 0 3 1 0 3]\n",
      "[1 0 0 1 0 0 3 1 0 3]\n",
      "[1 0 0 1 0 0 3 1 0 3]\n"
     ]
    },
    {
     "data": {
      "image/png": "[encoded data removed]",
      "text/plain": [
       "<Figure size 432x288 with 1 Axes>"
      ]
     },
     "metadata": {},
     "output_type": "display_data"
    }
   ],
   "source": [
    "\n",
    "\n",
    "print (nna)\n",
    "print (nnb)\n",
    "# Grafica datos y muestra parejas de vecinos\n",
    "plt.scatter(X[:,0], X[:,1], color='black');\n",
    "plt.scatter(C[:,0], C[:,1], color='red');\n",
    "plt.grid(True)\n",
    "for i in range(X.shape[0]):\n",
    "  plt.arrow(X[i,0],X[i,1],C[nn[i],0]-X[i,0],C[nn[i],1]-X[i,1]);\n"
   ]
  },
  {
   "cell_type": "code",
   "execution_count": 66,
   "metadata": {},
   "outputs": [],
   "source": [
    "X = numpy.random.randn(1000,100)\n",
    "\n",
    "#dX = encuentra_vecino_mas_cercano(X, X)\n",
    "#dX = dist_eucl2  (X,X)\n",
    "dX = dist_eucl_pw(X,X,2)"
   ]
  },
  {
   "cell_type": "code",
   "execution_count": 25,
   "metadata": {},
   "outputs": [
    {
     "data": {
      "text/plain": [
       "(1000, 1000)"
      ]
     },
     "execution_count": 25,
     "metadata": {},
     "output_type": "execute_result"
    }
   ],
   "source": [
    "dX.shape"
   ]
  },
  {
   "cell_type": "code",
   "execution_count": 27,
   "metadata": {
    "colab": {
     "base_uri": "https://localhost:8080/",
     "height": 264
    },
    "colab_type": "code",
    "executionInfo": {
     "elapsed": 455,
     "status": "ok",
     "timestamp": 1538090849746,
     "user": {
      "displayName": "Oscar Yáñez",
      "photoUrl": "",
      "userId": "17374698393674571684"
     },
     "user_tz": 300
    },
    "id": "w9RTlyn4IMPs",
    "outputId": "4aa3bdc9-e0f0-4ea8-abf6-407d3a389534"
   },
   "outputs": [
    {
     "data": {
      "image/png": "[encoded data removed]",
      "text/plain": [
       "<Figure size 432x288 with 1 Axes>"
      ]
     },
     "metadata": {},
     "output_type": "display_data"
    }
   ],
   "source": [
    "# Encuentra las distancias cuadradas de todos los datos de X contra todos ellos\n",
    "#dX = distancia_cuadrada(X,X)\n",
    "# Encuentra el vecino más cercano de cada punto de entre los puntos de X\n",
    "# Ojo: no puede usarse nuestra función porque cada dasto es el más cercano a si mismo\n",
    "#inx = numpy.argsort(dX, axis=1)[:,1]\n",
    "inx = dX[:,0]\n",
    "# Grafica datos y conecta los vecinos mas cercanos\n",
    "plt.scatter(X[:,0], X[:,1], color='black');\n",
    "plt.grid(True)\n",
    "for i in range(X.shape[0]):\n",
    "  plt.arrow(X[i,0],X[i,1],X[inx[i],0]-X[i,0],X[inx[i],1]-X[i,1],color='red');"
   ]
  },
  {
   "cell_type": "code",
   "execution_count": null,
   "metadata": {},
   "outputs": [],
   "source": []
  }
 ],
 "metadata": {
  "colab": {
   "collapsed_sections": [],
   "name": "DistanciaEntreParesDePuntos.ipynb",
   "provenance": [],
   "toc_visible": true,
   "version": "0.3.2"
  },
  "kernelspec": {
   "display_name": "Python 2",
   "language": "python",
   "name": "python2"
  },
  "language_info": {
   "codemirror_mode": {
    "name": "ipython",
    "version": 2
   },
   "file_extension": ".py",
   "mimetype": "text/x-python",
   "name": "python",
   "nbconvert_exporter": "python",
   "pygments_lexer": "ipython2",
   "version": "2.7.15rc1"
  }
 },
 "nbformat": 4,
 "nbformat_minor": 1
}
