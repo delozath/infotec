{
 "cells": [
  {
   "cell_type": "markdown",
   "metadata": {
    "colab_type": "text",
    "id": "5Qm0x6PC1CZU"
   },
   "source": [
    "# Métricas de distancias"
   ]
  },
  {
   "cell_type": "code",
   "execution_count": 1,
   "metadata": {
    "colab": {},
    "colab_type": "code",
    "id": "SLVwyKg50ak4"
   },
   "outputs": [],
   "source": [
    "# Carga bibliotecas\n",
    "import numpy             as np\n",
    "import matplotlib.pyplot as plt\n",
    "\n",
    "from sklearn import datasets\n",
    "\n",
    "%matplotlib inline"
   ]
  },
  {
   "cell_type": "code",
   "execution_count": 2,
   "metadata": {
    "colab": {},
    "colab_type": "code",
    "id": "FlP9o3YL3bdZ"
   },
   "outputs": [],
   "source": [
    "# Genera N datos\n",
    "N = 80"
   ]
  },
  {
   "cell_type": "code",
   "execution_count": 3,
   "metadata": {
    "colab": {
     "base_uri": "https://localhost:8080/",
     "height": 323
    },
    "colab_type": "code",
    "executionInfo": {
     "elapsed": 1248,
     "status": "ok",
     "timestamp": 1537211966683,
     "user": {
      "displayName": "Oscar Yáñez",
      "photoUrl": "//lh5.googleusercontent.com/-Prxq0ut7kXg/AAAAAAAAAAI/AAAAAAAAAUE/0_0fIeQegvk/s50-c-k-no/photo.jpg",
      "userId": "101681087597011654825"
     },
     "user_tz": 300
    },
    "id": "2wgYkhkM7cJ2",
    "outputId": "fcea5e7d-e07b-48b9-87f0-4ce157595ee2"
   },
   "outputs": [],
   "source": [
    "# Blobs isotrópicos\n",
    "Xblobs, Lblobs = datasets.make_blobs(n_samples=N, random_state=8)\n",
    "# Blobs aniisotrópicos\n",
    "X, Lblobsa = datasets.make_blobs(n_samples=N, random_state=170)\n",
    "Xblobsa = np.dot(X, [[0.6, -0.6], [-0.4, 0.8]])\n",
    "# Blobs de distinta varianza\n",
    "Xblobsv, Lblobsv = datasets.make_blobs(n_samples=N, cluster_std=[1.0, 2.5, 0.5],\n",
    "                             random_state=170)\n",
    "trash = \"\"\"\n",
    "plt.figure(figsize=(15,5))\n",
    "for X, l, i in zip((Xblobs,Xblobsa,Xblobsv),(Lblobs,Lblobsa,Lblobsv),range(1,4)):\n",
    "  plt.subplot(1,3,i)\n",
    "  plt.scatter(X[l==0, 0], X[l==0, 1], s=20, color='red');\n",
    "  plt.scatter(X[l==1, 0], X[l==1, 1], s=20, color='blue');\n",
    "  plt.scatter(X[l==2, 0], X[l==2, 1], s=20, color='green');\n",
    "\"\"\""
   ]
  },
  {
   "cell_type": "code",
   "execution_count": 4,
   "metadata": {},
   "outputs": [
    {
     "data": {
      "text/plain": [
       "[<matplotlib.lines.Line2D at 0x7f62de7a6e90>]"
      ]
     },
     "execution_count": 4,
     "metadata": {},
     "output_type": "execute_result"
    },
    {
     "data": {
      "image/png": "[encoded data removed]",
      "text/plain": [
       "<matplotlib.figure.Figure at 0x7f62de7c73d0>"
      ]
     },
     "metadata": {},
     "output_type": "display_data"
    }
   ],
   "source": [
    "X   = Xblobs[Lblobs==0]\n",
    "X_m = X.mean(axis=0)\n",
    "\n",
    "plt.plot(X[:,0],X[:,1],'o' ,markersize=10,alpha=.8)\n",
    "plt.plot(X_m[0],X_m[1],'or',markersize=15,alpha=.8)"
   ]
  },
  {
   "cell_type": "code",
   "execution_count": 5,
   "metadata": {},
   "outputs": [
    {
     "data": {
      "text/plain": [
       "1.6408860559281804"
      ]
     },
     "execution_count": 5,
     "metadata": {},
     "output_type": "execute_result"
    }
   ],
   "source": [
    "k = 0\n",
    "d = np.dot( X[k]-X_m, X[k]-X_m )\n",
    "d = np.sqrt(d)\n",
    "d"
   ]
  },
  {
   "cell_type": "code",
   "execution_count": 6,
   "metadata": {},
   "outputs": [
    {
     "data": {
      "text/plain": [
       "array([1.64088606, 2.30822493, 1.28973688, 0.59543805, 0.31232164,\n",
       "       1.46739039, 0.63650862, 0.46506108, 1.40657415, 0.31316267,\n",
       "       2.09254115, 0.82786538, 0.90216212, 3.14720036, 0.22232766,\n",
       "       2.52394799, 1.58271465, 1.8283691 , 2.84384283, 1.66701191,\n",
       "       2.08529582, 0.33809825, 1.21355226, 0.76505221, 3.15043003,\n",
       "       1.07650918, 1.31240467])"
      ]
     },
     "execution_count": 6,
     "metadata": {},
     "output_type": "execute_result"
    }
   ],
   "source": [
    "D = np.dot( X-X_m, (X-X_m).T )\n",
    "D = np.diag(D)\n",
    "D = np.sqrt(D)\n",
    "D"
   ]
  },
  {
   "cell_type": "code",
   "execution_count": 7,
   "metadata": {
    "scrolled": true
   },
   "outputs": [
    {
     "name": "stdout",
     "output_type": "stream",
     "text": [
      "[[1 2]\n",
      " [2 4]]\n",
      "[[ 0  0]\n",
      " [ 0 -2]\n",
      " [-1 -1]\n",
      " [-1  0]\n",
      " [ 2 -4]]\n",
      "(2, 2)\n",
      "(5, 2)\n"
     ]
    }
   ],
   "source": [
    "x  = np.array( [ [ 1,2],[2, 4] ] )\n",
    "y  = np.array( [ [0,0],[0,-2],[-1,-1],[-1,0],[2,-4] ] )\n",
    "print(x);print(y)\n",
    "print(x.shape);print(y.shape)"
   ]
  },
  {
   "cell_type": "code",
   "execution_count": 8,
   "metadata": {},
   "outputs": [
    {
     "name": "stdout",
     "output_type": "stream",
     "text": [
      "(2, 2, 1)\n",
      "(1, 5, 2)\n"
     ]
    }
   ],
   "source": [
    "print( x[:,:,np.newaxis].shape )\n",
    "print( y[np.newaxis    ].shape )"
   ]
  },
  {
   "cell_type": "code",
   "execution_count": 9,
   "metadata": {},
   "outputs": [
    {
     "name": "stdout",
     "output_type": "stream",
     "text": [
      "[[[ 1  2]\n",
      "  [ 1  4]\n",
      "  [ 2  3]\n",
      "  [ 2  2]\n",
      "  [-1  6]]\n",
      "\n",
      " [[ 2  4]\n",
      "  [ 2  6]\n",
      "  [ 3  5]\n",
      "  [ 3  4]\n",
      "  [ 0  8]]]\n",
      "(2, 5, 2)\n"
     ]
    }
   ],
   "source": [
    "D = x[:,:,np.newaxis] - np.transpose( y[np.newaxis],(0,2,1) )\n",
    "D = np.transpose(D,(0,2,1))\n",
    "print(D);print(D.shape)"
   ]
  },
  {
   "cell_type": "code",
   "execution_count": 10,
   "metadata": {},
   "outputs": [
    {
     "name": "stdout",
     "output_type": "stream",
     "text": [
      "[[ 5 17 13  8 37]\n",
      " [20 40 34 25 64]]\n",
      "(2, 5)\n"
     ]
    }
   ],
   "source": [
    "D =np.square(D).sum(axis=-1)\n",
    "print(D);print(D.shape)"
   ]
  },
  {
   "cell_type": "code",
   "execution_count": 11,
   "metadata": {},
   "outputs": [
    {
     "name": "stdout",
     "output_type": "stream",
     "text": [
      "[[[ 0  0]\n",
      "  [ 0  2]\n",
      "  [ 1  1]\n",
      "  [ 1  0]\n",
      "  [-2  4]]\n",
      "\n",
      " [[ 0 -2]\n",
      "  [ 0  0]\n",
      "  [ 1 -1]\n",
      "  [ 1 -2]\n",
      "  [-2  2]]\n",
      "\n",
      " [[-1 -1]\n",
      "  [-1  1]\n",
      "  [ 0  0]\n",
      "  [ 0 -1]\n",
      "  [-3  3]]\n",
      "\n",
      " [[-1  0]\n",
      "  [-1  2]\n",
      "  [ 0  1]\n",
      "  [ 0  0]\n",
      "  [-3  4]]\n",
      "\n",
      " [[ 2 -4]\n",
      "  [ 2 -2]\n",
      "  [ 3 -3]\n",
      "  [ 3 -4]\n",
      "  [ 0  0]]]\n",
      "(5, 5, 2)\n"
     ]
    }
   ],
   "source": [
    "D = y[:,:,np.newaxis] - np.transpose( y[np.newaxis],(0,2,1) )\n",
    "D = np.transpose(D,(0,2,1))\n",
    "print(D);print(D.shape)"
   ]
  },
  {
   "cell_type": "code",
   "execution_count": 12,
   "metadata": {},
   "outputs": [
    {
     "name": "stdout",
     "output_type": "stream",
     "text": [
      "[[ 0  4  2  1 20]\n",
      " [ 4  0  2  5  8]\n",
      " [ 2  2  0  1 18]\n",
      " [ 1  5  1  0 25]\n",
      " [20  8 18 25  0]]\n",
      "(5, 5)\n"
     ]
    }
   ],
   "source": [
    "D = np.square(D).sum(axis=-1)\n",
    "print(D);print(D.shape)"
   ]
  },
  {
   "cell_type": "code",
   "execution_count": 13,
   "metadata": {},
   "outputs": [
    {
     "name": "stdout",
     "output_type": "stream",
     "text": [
      "[[0 3 2 1 4]\n",
      " [1 2 0 3 4]\n",
      " [2 3 0 1 4]\n",
      " [3 0 2 1 4]\n",
      " [4 1 2 0 3]]\n"
     ]
    }
   ],
   "source": [
    "iD = np.argsort(D,axis=1)\n",
    "print(iD)"
   ]
  },
  {
   "cell_type": "code",
   "execution_count": 14,
   "metadata": {},
   "outputs": [
    {
     "name": "stdout",
     "output_type": "stream",
     "text": [
      "0, 3, [0 0], [-1  0]\n",
      "1, 2, [ 0 -2], [-1 -1]\n",
      "2, 3, [-1 -1], [-1  0]\n",
      "3, 0, [-1  0], [0 0]\n",
      "4, 1, [ 2 -4], [ 0 -2]\n"
     ]
    }
   ],
   "source": [
    "for i,j in enumerate( iD[:,1] ):\n",
    "    print( \"%d, %d, %s, %s\"%(i,j,y[i],y[j]) )"
   ]
  },
  {
   "cell_type": "code",
   "execution_count": 15,
   "metadata": {
    "scrolled": true
   },
   "outputs": [
    {
     "data": {
      "image/png": "[encoded data removed]",
      "text/plain": [
       "<matplotlib.figure.Figure at 0x7f62de7c72d0>"
      ]
     },
     "metadata": {},
     "output_type": "display_data"
    }
   ],
   "source": [
    "colors = ['r','g','b','y','k','orange']\n",
    "plt.scatter(y[:,0], y[:,1], color='black',s=60)\n",
    "plt.grid(True)\n",
    "for i,(j,c) in enumerate( zip(iD[:,1], colors )  ):\n",
    "    plt.arrow(y[i,0],y[i,1],y[j,0]-y[i,0],y[j,1]-y[i,1],color=c)"
   ]
  },
  {
   "cell_type": "code",
   "execution_count": 60,
   "metadata": {},
   "outputs": [],
   "source": [
    "D  = X[:,:,np.newaxis] - np.transpose( X[np.newaxis],(0,2,1) )\n",
    "D  = np.transpose(D,(0,2,1))\n",
    "D  = np.sqrt( np.square(D).sum(axis=-1) )\n",
    "iD = np.argsort(D,axis=1)"
   ]
  },
  {
   "cell_type": "code",
   "execution_count": 17,
   "metadata": {},
   "outputs": [
    {
     "data": {
      "image/png": "[encoded data removed]",
      "text/plain": [
       "<matplotlib.figure.Figure at 0x7f62de7bbb50>"
      ]
     },
     "metadata": {},
     "output_type": "display_data"
    }
   ],
   "source": [
    "plt.scatter(X[:,0], X[:,1], color='black',s=60)\n",
    "plt.grid(True)\n",
    "for i,j in enumerate( iD[:,1]  ):\n",
    "    plt.arrow(X[i,0],X[i,1],X[j,0]-X[i,0],X[j,1]-X[i,1])"
   ]
  },
  {
   "cell_type": "code",
   "execution_count": 18,
   "metadata": {},
   "outputs": [
    {
     "data": {
      "image/png": "[encoded data removed]",
      "text/plain": [
       "<matplotlib.figure.Figure at 0x7f62dc239f90>"
      ]
     },
     "metadata": {},
     "output_type": "display_data"
    }
   ],
   "source": [
    "plt.scatter(X[:,0], X[:,1], color='black',s=60)\n",
    "plt.grid(True)\n",
    "for i,j in enumerate( iD[:,1] ):\n",
    "    if D[i,j]<.5:\n",
    "        plt.arrow(X[i,0],X[i,1],X[j,0]-X[i,0],X[j,1]-X[i,1],color='r')\n",
    "    else:\n",
    "        plt.arrow(X[i,0],X[i,1],X[j,0]-X[i,0],X[j,1]-X[i,1],color='b')"
   ]
  },
  {
   "cell_type": "code",
   "execution_count": 19,
   "metadata": {},
   "outputs": [
    {
     "name": "stdout",
     "output_type": "stream",
     "text": [
      "[[1 2]\n",
      " [2 4]]\n",
      "[[ 0  0]\n",
      " [ 0 -2]\n",
      " [-1 -1]\n",
      " [-1  0]\n",
      " [ 2 -4]]\n"
     ]
    }
   ],
   "source": [
    "print(x)\n",
    "print(y)"
   ]
  },
  {
   "cell_type": "code",
   "execution_count": 46,
   "metadata": {},
   "outputs": [
    {
     "name": "stdout",
     "output_type": "stream",
     "text": [
      "[[[ 0  0]\n",
      "  [ 0  2]\n",
      "  [ 1  1]\n",
      "  [ 1  0]\n",
      "  [-2  4]]\n",
      "\n",
      " [[ 0 -2]\n",
      "  [ 0  0]\n",
      "  [ 1 -1]\n",
      "  [ 1 -2]\n",
      "  [-2  2]]\n",
      "\n",
      " [[-1 -1]\n",
      "  [-1  1]\n",
      "  [ 0  0]\n",
      "  [ 0 -1]\n",
      "  [-3  3]]\n",
      "\n",
      " [[-1  0]\n",
      "  [-1  2]\n",
      "  [ 0  1]\n",
      "  [ 0  0]\n",
      "  [-3  4]]\n",
      "\n",
      " [[ 2 -4]\n",
      "  [ 2 -2]\n",
      "  [ 3 -3]\n",
      "  [ 3 -4]\n",
      "  [ 0  0]]]\n",
      "(5, 5, 2)\n"
     ]
    }
   ],
   "source": [
    "D  = y[:,:,np.newaxis] - np.transpose( y[np.newaxis],(0,2,1) )\n",
    "D  = np.transpose(D,(0,2,1))\n",
    "print(D);print(D.shape)"
   ]
  },
  {
   "cell_type": "code",
   "execution_count": 47,
   "metadata": {},
   "outputs": [
    {
     "data": {
      "text/plain": [
       "array([[2.46153846, 1.53846154],\n",
       "       [1.53846154, 1.31868132]])"
      ]
     },
     "execution_count": 47,
     "metadata": {},
     "output_type": "execute_result"
    }
   ],
   "source": [
    "i = 3\n",
    "d = D[i]\n",
    "C = np.linalg.inv( np.cov( d.T ) )\n",
    "C"
   ]
  },
  {
   "cell_type": "code",
   "execution_count": 48,
   "metadata": {},
   "outputs": [
    {
     "name": "stdout",
     "output_type": "stream",
     "text": [
      "[[-2.46153846 -1.53846154]\n",
      " [ 0.61538462  1.0989011 ]\n",
      " [ 1.53846154  1.31868132]\n",
      " [ 0.          0.        ]\n",
      " [-1.23076923  0.65934066]]\n",
      "(5, 2)\n"
     ]
    }
   ],
   "source": [
    "d = np.dot(d,C.T)\n",
    "print(d)\n",
    "print(d.shape)"
   ]
  },
  {
   "cell_type": "code",
   "execution_count": 49,
   "metadata": {
    "scrolled": true
   },
   "outputs": [
    {
     "name": "stdout",
     "output_type": "stream",
     "text": [
      "[[ 8.4260355  -3.20540997 -5.81572274  0.          2.01521555]\n",
      " [-3.20540997  1.58628185  2.39584591  0.         -0.03284627]\n",
      " [-5.81572274  2.39584591  4.10578433  0.         -1.02403091]\n",
      " [ 0.          0.          0.          0.          0.        ]\n",
      " [ 2.01521555 -0.03284627 -1.02403091  0.          1.949523  ]]\n"
     ]
    }
   ],
   "source": [
    "d = np.dot( d,d.T )\n",
    "print(d)"
   ]
  },
  {
   "cell_type": "code",
   "execution_count": 50,
   "metadata": {},
   "outputs": [
    {
     "name": "stdout",
     "output_type": "stream",
     "text": [
      "[[ 8.4260355  -3.20540997 -5.81572274  0.          2.01521555]\n",
      " [-3.20540997  1.58628185  2.39584591  0.         -0.03284627]\n",
      " [-5.81572274  2.39584591  4.10578433  0.         -1.02403091]\n",
      " [ 0.          0.          0.          0.          0.        ]\n",
      " [ 2.01521555 -0.03284627 -1.02403091  0.          1.949523  ]]\n",
      "1\n"
     ]
    }
   ],
   "source": [
    "iD = np.argsort( np.abs(np.diag(d)) )\n",
    "print(d); print(iD[1])"
   ]
  },
  {
   "cell_type": "code",
   "execution_count": 51,
   "metadata": {},
   "outputs": [
    {
     "data": {
      "image/png": "[encoded data removed]",
      "text/plain": [
       "<matplotlib.figure.Figure at 0x7f62db934610>"
      ]
     },
     "metadata": {},
     "output_type": "display_data"
    }
   ],
   "source": [
    "plt.scatter(y[:,0], y[:,1], color='black',s=60)\n",
    "j=iD[1]\n",
    "plt.arrow(y[i,0],y[i,1],y[j,0]-y[i,0],y[j,1]-y[i,1],color='r')\n",
    "plt.grid(True)"
   ]
  },
  {
   "cell_type": "code",
   "execution_count": 56,
   "metadata": {},
   "outputs": [
    {
     "name": "stdout",
     "output_type": "stream",
     "text": [
      "[ 0.         16.4231373  24.16326531  8.4260355   6.3451274 ]\n",
      "\n",
      "[16.4231373   0.          0.90037435  1.58628185  3.6014974 ]\n",
      "\n",
      "[24.16326531  0.90037435  0.          4.10578433  8.10336916]\n",
      "\n",
      "[8.4260355  1.58628185 4.10578433 0.         1.949523  ]\n",
      "\n",
      "[6.3451274  3.6014974  8.10336916 1.949523   0.        ]\n",
      "\n",
      "[4, 2, 1, 1, 3]\n"
     ]
    }
   ],
   "source": [
    "sort = []\n",
    "for i,d in enumerate(D):\n",
    "    C  = np.linalg.inv( np.cov(d.T) )\n",
    "    dp = np.dot(d ,C.T)\n",
    "    dp = np.dot(dp,dp.T )\n",
    "    dp = np.diag(dp)\n",
    "    \n",
    "    sort.append( np.argsort(dp)[1] )\n",
    "    print(dp)\n",
    "    print(\"\")\n",
    "\n",
    "print(sort)"
   ]
  },
  {
   "cell_type": "code",
   "execution_count": 57,
   "metadata": {},
   "outputs": [
    {
     "data": {
      "image/png": "[encoded data removed]",
      "text/plain": [
       "<matplotlib.figure.Figure at 0x7f62dbd7a9d0>"
      ]
     },
     "metadata": {},
     "output_type": "display_data"
    }
   ],
   "source": [
    "colors = ['r','g','b','y','k','orange']\n",
    "plt.scatter(y[:,0], y[:,1], color='black',s=60)\n",
    "plt.grid(True)\n",
    "for i,(j,c) in enumerate( zip(sort,colors) ):\n",
    "    plt.arrow(y[i,0],y[i,1],y[j,0]-y[i,0],y[j,1]-y[i,1],color=c)\n"
   ]
  },
  {
   "cell_type": "code",
   "execution_count": 58,
   "metadata": {},
   "outputs": [
    {
     "name": "stdout",
     "output_type": "stream",
     "text": [
      "166\n"
     ]
    }
   ],
   "source": [
    "D  = X[:,:,np.newaxis] - np.transpose( X[np.newaxis],(0,2,1) )\n",
    "D  = np.transpose(D,(0,2,1))\n",
    "\n",
    "sort = []\n",
    "for i,d in enumerate(D):\n",
    "    C  = np.linalg.inv( np.cov(d.T) )\n",
    "    dp = np.dot(d ,C.T)\n",
    "    dp = np.dot(dp,dp.T )\n",
    "    dp = np.diag(dp)\n",
    "    \n",
    "    sort.append( np.argsort(dp)[1] )\n",
    "    #print(dp)\n",
    "    #print(\"\")\n",
    "\n",
    "print( len(sort) )"
   ]
  },
  {
   "cell_type": "code",
   "execution_count": 61,
   "metadata": {},
   "outputs": [
    {
     "data": {
      "image/png": "[encoded data removed]",
      "text/plain": [
       "<matplotlib.figure.Figure at 0x7f62dbee9890>"
      ]
     },
     "metadata": {},
     "output_type": "display_data"
    }
   ],
   "source": [
    "plt.scatter(X[:,0], X[:,1], color='black',s=60)\n",
    "plt.grid(True)\n",
    "for i,(j,k) in enumerate( zip(sort,iD[:,1]) ):\n",
    "    plt.arrow(X[i,0],X[i,1],X[j,0]-X[i,0],X[j,1]-X[i,1],color='r')\n",
    "    plt.arrow(X[i,0],X[i,1],X[k,0]-X[i,0],X[k,1]-X[i,1],color='k')"
   ]
  },
  {
   "cell_type": "code",
   "execution_count": null,
   "metadata": {},
   "outputs": [],
   "source": [
    "D.shape"
   ]
  },
  {
   "cell_type": "code",
   "execution_count": 62,
   "metadata": {},
   "outputs": [
    {
     "data": {
      "text/plain": [
       "[<matplotlib.lines.Line2D at 0x7f62db8406d0>]"
      ]
     },
     "execution_count": 62,
     "metadata": {},
     "output_type": "execute_result"
    },
    {
     "data": {
      "image/png": "[encoded data removed]",
      "text/plain": [
       "<matplotlib.figure.Figure at 0x7f62dc0fb550>"
      ]
     },
     "metadata": {},
     "output_type": "display_data"
    }
   ],
   "source": [
    "N                = 500\n",
    "Xblobsv, Lblobsv = datasets.make_blobs(n_samples=N, cluster_std=[0.25, 1.2, 0.25],\n",
    "                             random_state=170)\n",
    "\n",
    "X   = Xblobsv[Lblobsv==2]\n",
    "X_m = X.mean(axis=0)\n",
    "\n",
    "plt.plot(X[:,0],X[:,1],'o' ,markersize=10,alpha=.8)\n",
    "plt.plot(X_m[0],X_m[1],'or',markersize=15,alpha=.8)"
   ]
  },
  {
   "cell_type": "code",
   "execution_count": 63,
   "metadata": {},
   "outputs": [
    {
     "name": "stdout",
     "output_type": "stream",
     "text": [
      "166\n"
     ]
    }
   ],
   "source": [
    "D  = X[:,:,np.newaxis] - np.transpose( X[np.newaxis],(0,2,1) )\n",
    "D  = np.transpose(D,(0,2,1))\n",
    "\n",
    "sort = []\n",
    "for i,d in enumerate(D):\n",
    "    C  = np.linalg.inv( np.cov(d.T) )\n",
    "    dp = np.dot(d ,C.T)\n",
    "    dp = np.dot(dp,dp.T )\n",
    "    dp = np.diag(dp)\n",
    "    \n",
    "    sort.append( np.argsort(dp)[1] )\n",
    "    #print(dp)\n",
    "    #print(\"\")\n",
    "\n",
    "print( len(sort) )"
   ]
  },
  {
   "cell_type": "code",
   "execution_count": 64,
   "metadata": {},
   "outputs": [],
   "source": [
    "D  = X[:,:,np.newaxis] - np.transpose( X[np.newaxis],(0,2,1) )\n",
    "D  = np.transpose(D,(0,2,1))\n",
    "D  = np.sqrt( np.square(D).sum(axis=-1) )\n",
    "iD = np.argsort(D,axis=1)"
   ]
  },
  {
   "cell_type": "code",
   "execution_count": 65,
   "metadata": {},
   "outputs": [
    {
     "data": {
      "image/png": "[encoded data removed]",
      "text/plain": [
       "<matplotlib.figure.Figure at 0x7f62dbcf0c90>"
      ]
     },
     "metadata": {},
     "output_type": "display_data"
    }
   ],
   "source": [
    "plt.figure(figsize=(15,5))\n",
    "plt.scatter(X[:,0], X[:,1], color='black',s=60)\n",
    "plt.grid(True)\n",
    "for i,(j,k) in enumerate( zip(sort,iD[:,1]) ):\n",
    "    plt.arrow(X[i,0],X[i,1],X[j,0]-X[i,0],X[j,1]-X[i,1],color='r')\n",
    "    plt.arrow(X[i,0],X[i,1],X[k,0]-X[i,0],X[k,1]-X[i,1],color='k')\n"
   ]
  },
  {
   "cell_type": "code",
   "execution_count": 74,
   "metadata": {},
   "outputs": [
    {
     "name": "stdout",
     "output_type": "stream",
     "text": [
      "166\n"
     ]
    }
   ],
   "source": [
    "D  = X[:,:,np.newaxis] - np.transpose( X[np.newaxis],(0,2,1) )\n",
    "D  = np.transpose(D,(0,2,1))\n",
    "\n",
    "sort = []\n",
    "for i,d in enumerate(D):\n",
    "    C  = np.linalg.inv( np.cov(d.T) )\n",
    "    dp = np.dot(d ,C.T)\n",
    "    dp = np.dot(dp,dp.T )\n",
    "    dp = np.diag(dp)\n",
    "    \n",
    "    sort.append( np.argsort(dp)[1] )\n",
    "    #print(dp)\n",
    "    #print(\"\")\n",
    "\n",
    "print( len(sort) )"
   ]
  },
  {
   "cell_type": "code",
   "execution_count": 89,
   "metadata": {},
   "outputs": [
    {
     "name": "stdout",
     "output_type": "stream",
     "text": [
      "[1.5261307  1.91497924 5.3370444  0.87801392]\n",
      "[28.23367825 29.39663945 99.50372613 15.51529475]\n"
     ]
    }
   ],
   "source": [
    "C  = np.linalg.inv( np.cov(d.T) )\n",
    "dp = np.dot(d ,C.T)\n",
    "dp = np.dot(dp,dp.T )\n",
    "dp = np.diag(dp)\n",
    "\n",
    "print( np.einsum('ij,jk,ik->i',d,C,d)[:4] )\n",
    "print( dp[:4])\n"
   ]
  },
  {
   "cell_type": "code",
   "execution_count": 8,
   "metadata": {},
   "outputs": [
    {
     "name": "stdout",
     "output_type": "stream",
     "text": [
      "[1.38196601 3.61803399]\n",
      "[[-0.85065081 -0.52573111]\n",
      " [ 0.52573111 -0.85065081]]\n"
     ]
    }
   ],
   "source": [
    "l, E = np.linalg.eig(m)\n",
    "print(l)\n",
    "print(E)"
   ]
  },
  {
   "cell_type": "code",
   "execution_count": 9,
   "metadata": {},
   "outputs": [
    {
     "name": "stdout",
     "output_type": "stream",
     "text": [
      "[-1.1755705   0.72654253]\n",
      "[-1.1755705   0.72654253]\n"
     ]
    }
   ],
   "source": [
    "n = 0\n",
    "print( np.dot( m,E[:,n] ) )\n",
    "print( l[n]*     E[:,n] )"
   ]
  },
  {
   "cell_type": "code",
   "execution_count": 10,
   "metadata": {},
   "outputs": [
    {
     "name": "stdout",
     "output_type": "stream",
     "text": [
      "[-1.90211303 -3.07768354]\n",
      "[-1.90211303 -3.07768354]\n"
     ]
    }
   ],
   "source": [
    "n = 1\n",
    "print( np.dot( m,E[:,n] ) )\n",
    "print( l[n]*     E[:,n] )"
   ]
  },
  {
   "cell_type": "code",
   "execution_count": 11,
   "metadata": {},
   "outputs": [
    {
     "name": "stdout",
     "output_type": "stream",
     "text": [
      "[1.12589631 0.9650264 ]\n",
      "[[ 0.96096542 -0.27666852]\n",
      " [ 0.27666852  0.96096542]]\n"
     ]
    }
   ],
   "source": [
    "l,E = np.linalg.eig( np.cov(X.T) )\n",
    "print(l)\n",
    "print(E)"
   ]
  }
 ],
 "metadata": {
  "colab": {
   "collapsed_sections": [],
   "name": "conjuntos_de_prueba_2d.ipynb",
   "provenance": [],
   "version": "0.3.2"
  },
  "kernelspec": {
   "display_name": "Python 2",
   "language": "python",
   "name": "python2"
  },
  "language_info": {
   "codemirror_mode": {
    "name": "ipython",
    "version": 2
   },
   "file_extension": ".py",
   "mimetype": "text/x-python",
   "name": "python",
   "nbconvert_exporter": "python",
   "pygments_lexer": "ipython2",
   "version": "2.7.14"
  }
 },
 "nbformat": 4,
 "nbformat_minor": 1
}
