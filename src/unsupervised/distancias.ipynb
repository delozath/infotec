{
 "cells": [
  {
   "cell_type": "markdown",
   "metadata": {
    "colab_type": "text",
    "id": "5Qm0x6PC1CZU"
   },
   "source": [
    "# Métricas de distancias"
   ]
  },
  {
   "cell_type": "code",
   "execution_count": 1,
   "metadata": {
    "colab": {},
    "colab_type": "code",
    "id": "SLVwyKg50ak4"
   },
   "outputs": [],
   "source": [
    "# Carga bibliotecas\n",
    "import numpy             as np\n",
    "import matplotlib.pyplot as plt\n",
    "\n",
    "from sklearn import datasets\n",
    "\n",
    "%matplotlib inline"
   ]
  },
  {
   "cell_type": "code",
   "execution_count": 2,
   "metadata": {
    "colab": {},
    "colab_type": "code",
    "id": "FlP9o3YL3bdZ"
   },
   "outputs": [],
   "source": [
    "# Genera N datos\n",
    "N = 80"
   ]
  },
  {
   "cell_type": "code",
   "execution_count": 3,
   "metadata": {
    "colab": {
     "base_uri": "https://localhost:8080/",
     "height": 323
    },
    "colab_type": "code",
    "executionInfo": {
     "elapsed": 1248,
     "status": "ok",
     "timestamp": 1537211966683,
     "user": {
      "displayName": "Oscar Yáñez",
      "photoUrl": "//lh5.googleusercontent.com/-Prxq0ut7kXg/AAAAAAAAAAI/AAAAAAAAAUE/0_0fIeQegvk/s50-c-k-no/photo.jpg",
      "userId": "101681087597011654825"
     },
     "user_tz": 300
    },
    "id": "2wgYkhkM7cJ2",
    "outputId": "fcea5e7d-e07b-48b9-87f0-4ce157595ee2"
   },
   "outputs": [],
   "source": [
    "# Blobs isotrópicos\n",
    "Xblobs, Lblobs = datasets.make_blobs(n_samples=N, random_state=8)\n",
    "# Blobs aniisotrópicos\n",
    "X, Lblobsa = datasets.make_blobs(n_samples=N, random_state=170)\n",
    "Xblobsa = np.dot(X, [[0.6, -0.6], [-0.4, 0.8]])\n",
    "# Blobs de distinta varianza\n",
    "Xblobsv, Lblobsv = datasets.make_blobs(n_samples=N, cluster_std=[1.0, 2.5, 0.5],\n",
    "                             random_state=170)\n",
    "trash = \"\"\"\n",
    "plt.figure(figsize=(15,5))\n",
    "for X, l, i in zip((Xblobs,Xblobsa,Xblobsv),(Lblobs,Lblobsa,Lblobsv),range(1,4)):\n",
    "  plt.subplot(1,3,i)\n",
    "  plt.scatter(X[l==0, 0], X[l==0, 1], s=20, color='red');\n",
    "  plt.scatter(X[l==1, 0], X[l==1, 1], s=20, color='blue');\n",
    "  plt.scatter(X[l==2, 0], X[l==2, 1], s=20, color='green');\n",
    "\"\"\""
   ]
  },
  {
   "cell_type": "code",
   "execution_count": 4,
   "metadata": {},
   "outputs": [
    {
     "data": {
      "text/plain": [
       "[<matplotlib.lines.Line2D at 0x7fc7ea9d0250>]"
      ]
     },
     "execution_count": 4,
     "metadata": {},
     "output_type": "execute_result"
    },
    {
     "data": {
      "image/png": "[encoded data removed]",
      "text/plain": [
       "<Figure size 432x288 with 1 Axes>"
      ]
     },
     "metadata": {},
     "output_type": "display_data"
    }
   ],
   "source": [
    "X   = Xblobs[Lblobs==0]\n",
    "X_m = X.mean(axis=0)\n",
    "\n",
    "plt.plot(X[:,0],X[:,1],'o' ,markersize=10,alpha=.8)\n",
    "plt.plot(X_m[0],X_m[1],'or',markersize=15,alpha=.8)"
   ]
  },
  {
   "cell_type": "code",
   "execution_count": 5,
   "metadata": {},
   "outputs": [
    {
     "data": {
      "text/plain": [
       "1.6408860559281804"
      ]
     },
     "execution_count": 5,
     "metadata": {},
     "output_type": "execute_result"
    }
   ],
   "source": [
    "k = 0\n",
    "d = np.dot( X[k]-X_m, X[k]-X_m )\n",
    "d = np.sqrt(d)\n",
    "d"
   ]
  },
  {
   "cell_type": "code",
   "execution_count": 6,
   "metadata": {},
   "outputs": [
    {
     "data": {
      "text/plain": [
       "array([1.64088606, 2.30822493, 1.28973688, 0.59543805, 0.31232164,\n",
       "       1.46739039, 0.63650862, 0.46506108, 1.40657415, 0.31316267,\n",
       "       2.09254115, 0.82786538, 0.90216212, 3.14720036, 0.22232766,\n",
       "       2.52394799, 1.58271465, 1.8283691 , 2.84384283, 1.66701191,\n",
       "       2.08529582, 0.33809825, 1.21355226, 0.76505221, 3.15043003,\n",
       "       1.07650918, 1.31240467])"
      ]
     },
     "execution_count": 6,
     "metadata": {},
     "output_type": "execute_result"
    }
   ],
   "source": [
    "D = np.dot( X-X_m, (X-X_m).T )\n",
    "D = np.diag(D)\n",
    "D = np.sqrt(D)\n",
    "D"
   ]
  },
  {
   "cell_type": "code",
   "execution_count": 7,
   "metadata": {},
   "outputs": [
    {
     "name": "stdout",
     "output_type": "stream",
     "text": [
      "[[1 2]\n",
      " [2 4]]\n",
      "[[ 0  0]\n",
      " [ 0 -2]\n",
      " [-1 -1]\n",
      " [-1  0]\n",
      " [ 2 -4]]\n",
      "(2, 2)\n",
      "(5, 2)\n"
     ]
    }
   ],
   "source": [
    "x  = np.array( [ [ 1,2],[2, 4] ] )\n",
    "y  = np.array( [ [0,0],[0,-2],[-1,-1],[-1,0],[2,-4] ] )\n",
    "print(x);print(y)\n",
    "print(x.shape);print(y.shape)"
   ]
  },
  {
   "cell_type": "code",
   "execution_count": 8,
   "metadata": {},
   "outputs": [
    {
     "name": "stdout",
     "output_type": "stream",
     "text": [
      "(2, 2, 1)\n",
      "(1, 5, 2)\n"
     ]
    }
   ],
   "source": [
    "print( x[:,:,np.newaxis].shape )\n",
    "print( y[np.newaxis    ].shape )"
   ]
  },
  {
   "cell_type": "code",
   "execution_count": 9,
   "metadata": {},
   "outputs": [
    {
     "name": "stdout",
     "output_type": "stream",
     "text": [
      "[[[ 1  2]\n",
      "  [ 1  4]\n",
      "  [ 2  3]\n",
      "  [ 2  2]\n",
      "  [-1  6]]\n",
      "\n",
      " [[ 2  4]\n",
      "  [ 2  6]\n",
      "  [ 3  5]\n",
      "  [ 3  4]\n",
      "  [ 0  8]]]\n",
      "(2, 5, 2)\n"
     ]
    }
   ],
   "source": [
    "D = x[:,:,np.newaxis] - np.transpose( y[np.newaxis],(0,2,1) )\n",
    "D = np.transpose(D,(0,2,1))\n",
    "print(D);print(D.shape)"
   ]
  },
  {
   "cell_type": "code",
   "execution_count": 10,
   "metadata": {},
   "outputs": [
    {
     "name": "stdout",
     "output_type": "stream",
     "text": [
      "[[ 5 17 13  8 37]\n",
      " [20 40 34 25 64]]\n",
      "(2, 5)\n"
     ]
    }
   ],
   "source": [
    "D =np.square(D).sum(axis=-1)\n",
    "print(D);print(D.shape)"
   ]
  },
  {
   "cell_type": "code",
   "execution_count": 11,
   "metadata": {},
   "outputs": [
    {
     "name": "stdout",
     "output_type": "stream",
     "text": [
      "[[[ 0  0]\n",
      "  [ 0  2]\n",
      "  [ 1  1]\n",
      "  [ 1  0]\n",
      "  [-2  4]]\n",
      "\n",
      " [[ 0 -2]\n",
      "  [ 0  0]\n",
      "  [ 1 -1]\n",
      "  [ 1 -2]\n",
      "  [-2  2]]\n",
      "\n",
      " [[-1 -1]\n",
      "  [-1  1]\n",
      "  [ 0  0]\n",
      "  [ 0 -1]\n",
      "  [-3  3]]\n",
      "\n",
      " [[-1  0]\n",
      "  [-1  2]\n",
      "  [ 0  1]\n",
      "  [ 0  0]\n",
      "  [-3  4]]\n",
      "\n",
      " [[ 2 -4]\n",
      "  [ 2 -2]\n",
      "  [ 3 -3]\n",
      "  [ 3 -4]\n",
      "  [ 0  0]]]\n",
      "(5, 5, 2)\n"
     ]
    }
   ],
   "source": [
    "D = y[:,:,np.newaxis] - np.transpose( y[np.newaxis],(0,2,1) )\n",
    "D = np.transpose(D,(0,2,1))\n",
    "print(D);print(D.shape)"
   ]
  },
  {
   "cell_type": "code",
   "execution_count": 12,
   "metadata": {},
   "outputs": [
    {
     "name": "stdout",
     "output_type": "stream",
     "text": [
      "[[ 0  4  2  1 20]\n",
      " [ 4  0  2  5  8]\n",
      " [ 2  2  0  1 18]\n",
      " [ 1  5  1  0 25]\n",
      " [20  8 18 25  0]]\n",
      "(5, 5)\n"
     ]
    }
   ],
   "source": [
    "D = np.square(D).sum(axis=-1)\n",
    "print(D);print(D.shape)"
   ]
  },
  {
   "cell_type": "code",
   "execution_count": 13,
   "metadata": {},
   "outputs": [
    {
     "name": "stdout",
     "output_type": "stream",
     "text": [
      "[[0 3 2 1 4]\n",
      " [1 2 0 3 4]\n",
      " [2 3 0 1 4]\n",
      " [3 0 2 1 4]\n",
      " [4 1 2 0 3]]\n"
     ]
    }
   ],
   "source": [
    "iD = np.argsort(D,axis=1)\n",
    "print(iD)"
   ]
  },
  {
   "cell_type": "code",
   "execution_count": 14,
   "metadata": {},
   "outputs": [
    {
     "name": "stdout",
     "output_type": "stream",
     "text": [
      "0, 3, [0 0], [-1  0]\n",
      "1, 2, [ 0 -2], [-1 -1]\n",
      "2, 3, [-1 -1], [-1  0]\n",
      "3, 0, [-1  0], [0 0]\n",
      "4, 1, [ 2 -4], [ 0 -2]\n"
     ]
    }
   ],
   "source": [
    "for i,j in enumerate( iD[:,1] ):\n",
    "    print( \"%d, %d, %s, %s\"%(i,j,y[i],y[j]) )"
   ]
  },
  {
   "cell_type": "code",
   "execution_count": 15,
   "metadata": {
    "scrolled": true
   },
   "outputs": [
    {
     "data": {
      "image/png": "[encoded data removed]",
      "text/plain": [
       "<Figure size 432x288 with 1 Axes>"
      ]
     },
     "metadata": {},
     "output_type": "display_data"
    }
   ],
   "source": [
    "colors = ['r','g','b','y','k','orange']\n",
    "plt.scatter(y[:,0], y[:,1], color='black',s=60)\n",
    "plt.grid(True)\n",
    "for i,(j,c) in enumerate( zip(iD[:,1], colors )  ):\n",
    "    plt.arrow(y[i,0],y[i,1],y[j,0]-y[i,0],y[j,1]-y[i,1],color=c)"
   ]
  },
  {
   "cell_type": "code",
   "execution_count": 16,
   "metadata": {},
   "outputs": [],
   "source": [
    "D  = X[:,:,np.newaxis] - np.transpose( X[np.newaxis],(0,2,1) )\n",
    "D  = np.transpose(D,(0,2,1))\n",
    "D  = np.sqrt( np.square(D).sum(axis=-1) )\n",
    "iD = np.argsort(D,axis=1)"
   ]
  },
  {
   "cell_type": "code",
   "execution_count": 18,
   "metadata": {},
   "outputs": [
    {
     "data": {
      "image/png": "[encoded data removed]",
      "text/plain": [
       "<Figure size 432x288 with 1 Axes>"
      ]
     },
     "metadata": {},
     "output_type": "display_data"
    }
   ],
   "source": [
    "plt.scatter(X[:,0], X[:,1], color='black',s=60)\n",
    "plt.grid(True)\n",
    "for i,j in enumerate( iD[:,1]  ):\n",
    "    plt.arrow(X[i,0],X[i,1],X[j,0]-X[i,0],X[j,1]-X[i,1])"
   ]
  },
  {
   "cell_type": "code",
   "execution_count": 19,
   "metadata": {},
   "outputs": [
    {
     "data": {
      "image/png": "[encoded data removed]",
      "text/plain": [
       "<Figure size 432x288 with 1 Axes>"
      ]
     },
     "metadata": {},
     "output_type": "display_data"
    }
   ],
   "source": [
    "plt.scatter(X[:,0], X[:,1], color='black',s=60)\n",
    "plt.grid(True)\n",
    "for i,j in enumerate( iD[:,1] ):\n",
    "    if D[i,j]<.5:\n",
    "        plt.arrow(X[i,0],X[i,1],X[j,0]-X[i,0],X[j,1]-X[i,1],color='r')\n",
    "    else:\n",
    "        plt.arrow(X[i,0],X[i,1],X[j,0]-X[i,0],X[j,1]-X[i,1],color='b')"
   ]
  },
  {
   "cell_type": "code",
   "execution_count": 20,
   "metadata": {},
   "outputs": [
    {
     "name": "stdout",
     "output_type": "stream",
     "text": [
      "[[1 2]\n",
      " [2 4]]\n",
      "[[ 0  0]\n",
      " [ 0 -2]\n",
      " [-1 -1]\n",
      " [-1  0]\n",
      " [ 2 -4]]\n"
     ]
    }
   ],
   "source": [
    "print(x)\n",
    "print(y)"
   ]
  },
  {
   "cell_type": "code",
   "execution_count": 83,
   "metadata": {},
   "outputs": [
    {
     "name": "stdout",
     "output_type": "stream",
     "text": [
      "[[[ 0  0]\n",
      "  [ 0  2]\n",
      "  [ 1  1]\n",
      "  [ 1  0]\n",
      "  [-2  4]]\n",
      "\n",
      " [[ 0 -2]\n",
      "  [ 0  0]\n",
      "  [ 1 -1]\n",
      "  [ 1 -2]\n",
      "  [-2  2]]\n",
      "\n",
      " [[-1 -1]\n",
      "  [-1  1]\n",
      "  [ 0  0]\n",
      "  [ 0 -1]\n",
      "  [-3  3]]\n",
      "\n",
      " [[-1  0]\n",
      "  [-1  2]\n",
      "  [ 0  1]\n",
      "  [ 0  0]\n",
      "  [-3  4]]\n",
      "\n",
      " [[ 2 -4]\n",
      "  [ 2 -2]\n",
      "  [ 3 -3]\n",
      "  [ 3 -4]\n",
      "  [ 0  0]]]\n"
     ]
    }
   ],
   "source": [
    "D  = y[:,:,np.newaxis] - np.transpose( y[np.newaxis],(0,2,1) )\n",
    "D  = np.transpose(D,(0,2,1))\n",
    "print(D)"
   ]
  },
  {
   "cell_type": "code",
   "execution_count": 113,
   "metadata": {},
   "outputs": [
    {
     "data": {
      "text/plain": [
       "array([[ 1.5 , -1.75],\n",
       "       [-1.75,  2.8 ]])"
      ]
     },
     "execution_count": 113,
     "metadata": {},
     "output_type": "execute_result"
    }
   ],
   "source": [
    "i = 3\n",
    "d = D[i]\n",
    "C = np.cov( d.T )\n",
    "C"
   ]
  },
  {
   "cell_type": "code",
   "execution_count": 114,
   "metadata": {},
   "outputs": [
    {
     "name": "stdout",
     "output_type": "stream",
     "text": [
      "[[ -1.5    1.75]\n",
      " [ -5.     7.35]\n",
      " [ -1.75   2.8 ]\n",
      " [  0.     0.  ]\n",
      " [-11.5   16.45]]\n",
      "(5, 2)\n"
     ]
    }
   ],
   "source": [
    "d = np.dot(d,C.T)\n",
    "print(d)\n",
    "print(d.shape)"
   ]
  },
  {
   "cell_type": "code",
   "execution_count": 115,
   "metadata": {
    "scrolled": true
   },
   "outputs": [
    {
     "name": "stdout",
     "output_type": "stream",
     "text": [
      "[[  5.3125  20.3625   7.525    0.      46.0375]\n",
      " [ 20.3625  79.0225  29.33     0.     178.4075]\n",
      " [  7.525   29.33    10.9025   0.      66.185 ]\n",
      " [  0.       0.       0.       0.       0.    ]\n",
      " [ 46.0375 178.4075  66.185    0.     402.8525]]\n"
     ]
    }
   ],
   "source": [
    "d = np.dot( d,d.T )\n",
    "print(d)"
   ]
  },
  {
   "cell_type": "code",
   "execution_count": 116,
   "metadata": {},
   "outputs": [
    {
     "name": "stdout",
     "output_type": "stream",
     "text": [
      "[[  5.3125  20.3625   7.525    0.      46.0375]\n",
      " [ 20.3625  79.0225  29.33     0.     178.4075]\n",
      " [  7.525   29.33    10.9025   0.      66.185 ]\n",
      " [  0.       0.       0.       0.       0.    ]\n",
      " [ 46.0375 178.4075  66.185    0.     402.8525]]\n",
      "0\n"
     ]
    }
   ],
   "source": [
    "iD = np.argsort( np.abs(np.diag(d)) )\n",
    "print(d); print(iD[1])"
   ]
  },
  {
   "cell_type": "code",
   "execution_count": 117,
   "metadata": {},
   "outputs": [
    {
     "data": {
      "image/png": "[encoded data removed]",
      "text/plain": [
       "<Figure size 432x288 with 1 Axes>"
      ]
     },
     "metadata": {},
     "output_type": "display_data"
    }
   ],
   "source": [
    "plt.scatter(y[:,0], y[:,1], color='black',s=60)\n",
    "j=iD[1]\n",
    "plt.arrow(y[i,0],y[i,1],y[j,0]-y[i,0],y[j,1]-y[i,1],color='r')\n",
    "plt.grid(True)"
   ]
  },
  {
   "cell_type": "code",
   "execution_count": 73,
   "metadata": {},
   "outputs": [
    {
     "data": {
      "image/png": "[encoded data removed]",
      "text/plain": [
       "<Figure size 432x288 with 1 Axes>"
      ]
     },
     "metadata": {},
     "output_type": "display_data"
    }
   ],
   "source": [
    "plt.scatter(x[:,0], X[:,1], color='black',s=60)\n",
    "\n",
    "plt.grid(True)"
   ]
  },
  {
   "cell_type": "code",
   "execution_count": 310,
   "metadata": {},
   "outputs": [
    {
     "name": "stdout",
     "output_type": "stream",
     "text": [
      "1.5127476770970318\n",
      "1.2281567736958006\n",
      "[ 1.51274768  8.72866423  0.07446465  2.48524056  1.54627324  4.68617511\n",
      "  2.27545867  0.66709695  3.84712764  0.89141631  3.24373234  2.44043619\n",
      "  3.29229517  9.40168606  0.83506651 10.09423683  5.11636009  0.42950898\n",
      "  1.70240366  2.34809281  0.4960198   0.78264232  4.23938717  2.35677352\n",
      "  7.82661584  1.22815677]\n"
     ]
    }
   ],
   "source": [
    "for i in range(X.shape[0]):\n",
    "    m = X[i]\n",
    "    x = X[ ~(np.arange(X.shape[0])==i) ]\n",
    "    D = x-m[np.newaxis]\n",
    "    S = np.cov( D.T )\n",
    "    S = np.linalg.inv(S)\n",
    "\n",
    "print( np.dot( np.dot(D,S),D.T )[0,0] )\n",
    "print( np.dot( np.dot(D,S),D.T )[-1,-1] )\n",
    "print( np.diag(np.dot( np.dot(D,S),D.T )) )"
   ]
  },
  {
   "cell_type": "code",
   "execution_count": 267,
   "metadata": {},
   "outputs": [
    {
     "name": "stdout",
     "output_type": "stream",
     "text": [
      "[10.69442708  7.13233739 10.11237368  8.75705864  9.22546654  9.16468837\n",
      "  9.15541019  9.30355062  9.5437919   9.49183817  8.59885732  9.34592577\n",
      "  8.79297927  6.52480484  9.405363    7.12185317  7.62325091 11.0037961\n",
      " 11.50277086 10.51688235 11.21580659  9.25769999  8.09386759  8.44178813\n",
      "  7.62045993 10.12349528 10.3240296 ]\n",
      "[ 6.98193652  6.58556656  8.53417894  7.22387958  7.32390493  6.16685939\n",
      "  6.99841539  8.08470677  6.27304212  7.55549926  9.6417458   6.82125751\n",
      "  6.82330621  9.30994047  7.68386805  6.18543083  7.40083114  7.85386203\n",
      "  9.28706956  6.62666668  8.12318382  7.9650335   7.11052933  7.79972067\n",
      " 10.366428    7.10019287  8.29238872]\n"
     ]
    }
   ],
   "source": [
    "print( np.dot(X,E[:,0]) )\n",
    "print( np.dot(X,E[:,1]) )"
   ]
  },
  {
   "cell_type": "code",
   "execution_count": 20,
   "metadata": {},
   "outputs": [
    {
     "ename": "ValueError",
     "evalue": "shapes (500,2) and (500,2) not aligned: 2 (dim 1) != 500 (dim 0)",
     "output_type": "error",
     "traceback": [
      "\u001b[0;31m---------------------------------------------------------------------------\u001b[0m",
      "\u001b[0;31mValueError\u001b[0m                                Traceback (most recent call last)",
      "\u001b[0;32m<ipython-input-20-35b5f24e834a>\u001b[0m in \u001b[0;36m<module>\u001b[0;34m()\u001b[0m\n\u001b[0;32m----> 1\u001b[0;31m \u001b[0mnp\u001b[0m\u001b[0;34m.\u001b[0m\u001b[0mdot\u001b[0m\u001b[0;34m(\u001b[0m  \u001b[0;34m(\u001b[0m\u001b[0mX\u001b[0m\u001b[0;34m-\u001b[0m\u001b[0mX_m\u001b[0m\u001b[0;34m)\u001b[0m\u001b[0;34m,\u001b[0m \u001b[0mnp\u001b[0m\u001b[0;34m.\u001b[0m\u001b[0mdot\u001b[0m\u001b[0;34m(\u001b[0m \u001b[0;34m(\u001b[0m\u001b[0mX\u001b[0m\u001b[0;34m-\u001b[0m\u001b[0mX_m\u001b[0m\u001b[0;34m)\u001b[0m\u001b[0;34m,\u001b[0m \u001b[0mnp\u001b[0m\u001b[0;34m.\u001b[0m\u001b[0mcov\u001b[0m\u001b[0;34m(\u001b[0m\u001b[0mX\u001b[0m\u001b[0;34m.\u001b[0m\u001b[0mT\u001b[0m\u001b[0;34m)\u001b[0m \u001b[0;34m)\u001b[0m  \u001b[0;34m)\u001b[0m\u001b[0;34m.\u001b[0m\u001b[0mshape\u001b[0m\u001b[0;34m\u001b[0m\u001b[0m\n\u001b[0m",
      "\u001b[0;31mValueError\u001b[0m: shapes (500,2) and (500,2) not aligned: 2 (dim 1) != 500 (dim 0)"
     ]
    }
   ],
   "source": [
    "np.dot(  (X-X_m), np.dot( (X-X_m), np.cov(X.T) )  ).shape"
   ]
  },
  {
   "cell_type": "code",
   "execution_count": 8,
   "metadata": {},
   "outputs": [
    {
     "name": "stdout",
     "output_type": "stream",
     "text": [
      "[1.38196601 3.61803399]\n",
      "[[-0.85065081 -0.52573111]\n",
      " [ 0.52573111 -0.85065081]]\n"
     ]
    }
   ],
   "source": [
    "l, E = np.linalg.eig(m)\n",
    "print(l)\n",
    "print(E)"
   ]
  },
  {
   "cell_type": "code",
   "execution_count": 9,
   "metadata": {},
   "outputs": [
    {
     "name": "stdout",
     "output_type": "stream",
     "text": [
      "[-1.1755705   0.72654253]\n",
      "[-1.1755705   0.72654253]\n"
     ]
    }
   ],
   "source": [
    "n = 0\n",
    "print( np.dot( m,E[:,n] ) )\n",
    "print( l[n]*     E[:,n] )"
   ]
  },
  {
   "cell_type": "code",
   "execution_count": 10,
   "metadata": {},
   "outputs": [
    {
     "name": "stdout",
     "output_type": "stream",
     "text": [
      "[-1.90211303 -3.07768354]\n",
      "[-1.90211303 -3.07768354]\n"
     ]
    }
   ],
   "source": [
    "n = 1\n",
    "print( np.dot( m,E[:,n] ) )\n",
    "print( l[n]*     E[:,n] )"
   ]
  },
  {
   "cell_type": "code",
   "execution_count": 11,
   "metadata": {},
   "outputs": [
    {
     "name": "stdout",
     "output_type": "stream",
     "text": [
      "[1.12589631 0.9650264 ]\n",
      "[[ 0.96096542 -0.27666852]\n",
      " [ 0.27666852  0.96096542]]\n"
     ]
    }
   ],
   "source": [
    "l,E = np.linalg.eig( np.cov(X.T) )\n",
    "print(l)\n",
    "print(E)"
   ]
  },
  {
   "cell_type": "code",
   "execution_count": 12,
   "metadata": {},
   "outputs": [
    {
     "name": "stdout",
     "output_type": "stream",
     "text": [
      "[3.90912839 6.19987347]\n",
      "[10.52905575 12.27174213]\n"
     ]
    }
   ],
   "source": [
    "x_min, x_max = X.min(axis=0), X.max(axis=0)\n",
    "print(x_min)\n",
    "print(x_max)"
   ]
  },
  {
   "cell_type": "code",
   "execution_count": 25,
   "metadata": {
    "scrolled": true
   },
   "outputs": [
    {
     "data": {
      "text/plain": [
       "array([2.04115914, 1.93157359, 1.04969349, 1.03995147, 1.59143985,\n",
       "       1.16249691, 1.81934168, 1.01748917, 1.46473005, 0.51839011,\n",
       "       1.38161417, 1.47607829, 1.17699915, 0.48846713, 1.11151992,\n",
       "       1.56696645, 1.00855135, 0.93034445, 1.90866101, 0.41123944,\n",
       "       0.7568473 , 1.35298504, 1.35537527, 0.66095994, 0.96405294,\n",
       "       1.50732265, 0.63768458, 2.20694046, 2.08505524, 1.38091905,\n",
       "       2.17205798, 1.06927752, 0.13868325, 1.22277478, 1.44341985,\n",
       "       1.46817413, 1.09068062, 1.83723233, 1.36022777, 2.47101116,\n",
       "       0.35370782, 0.85535766, 1.86842817, 0.5206446 , 0.46349187,\n",
       "       0.90488381, 0.03153989, 0.63612709, 1.57476197, 1.11349726,\n",
       "       1.94904512, 1.32192975, 1.00417502, 0.73460646, 1.00228178,\n",
       "       0.75391183, 1.53865494, 1.49364613, 0.7898201 , 1.20877079,\n",
       "       1.03875039, 0.18503052, 0.15351661, 1.92700454, 1.79551972,\n",
       "       1.10166992, 1.78246863, 1.009065  , 1.43357015, 1.22830546,\n",
       "       1.19413311, 1.2166673 , 2.64376233, 0.58035567, 0.29749492,\n",
       "       0.36619342, 0.67062569, 2.11863854, 0.66947632, 1.30574806,\n",
       "       1.76210367, 0.87274426, 1.04514294, 1.84737564, 0.75344004,\n",
       "       0.6961085 , 1.39443211, 1.55673575, 2.31152511, 1.30276813,\n",
       "       1.33638671, 1.03816433, 0.44881672, 1.47757787, 0.31963686,\n",
       "       1.01546727, 0.66460517, 2.25579767, 0.2686397 , 1.10158758,\n",
       "       1.13256095, 1.15756638, 0.48462658, 2.15856521, 1.39345088,\n",
       "       1.30439501, 2.64267367, 1.01131302, 0.87940519, 0.99680875,\n",
       "       1.63972844, 1.28115719, 1.00942772, 0.73564252, 0.40178266,\n",
       "       1.39905654, 0.91561099, 1.5190521 , 1.18718531, 2.50992016,\n",
       "       1.04006701, 1.81406409, 1.89056222, 0.6592365 , 2.03209133,\n",
       "       1.94575664, 1.20871195, 0.9056427 , 1.81937577, 2.6974263 ,\n",
       "       0.58362229, 1.98044382, 0.43664088, 1.18899134, 1.16963221,\n",
       "       1.79488133, 1.09431494, 0.29127087, 2.00673919, 1.96455325,\n",
       "       2.11888015, 2.09641616, 1.64060388, 1.82197836, 2.59109797,\n",
       "       1.29680295, 1.62805408, 3.4067718 , 0.4722909 , 2.39152041,\n",
       "       0.43199583, 1.10391406, 1.70050982, 2.48889244, 2.43322669,\n",
       "       1.15137071, 1.16946952, 2.45024054, 1.88445339, 1.85470183,\n",
       "       0.67091225, 0.95937959, 1.00158037, 1.69800411, 1.0695509 ,\n",
       "       0.51169067, 0.71130049, 0.94658525, 1.29393998, 0.25001743,\n",
       "       1.65903346, 0.84151613, 1.89188749, 1.06552693, 0.58945216,\n",
       "       0.64721961, 0.40856218, 0.13490707, 0.68477091, 2.49494717,\n",
       "       1.53018562, 0.64728432, 1.27389071, 0.45341824, 0.31909095,\n",
       "       0.71086363, 0.16678003, 0.34717285, 1.30918083, 1.93872437,\n",
       "       0.85509041, 2.16411691, 2.34209358, 1.08077349, 1.54425992,\n",
       "       0.63613727, 1.10784692, 1.70933322, 1.11182543, 1.69905365,\n",
       "       1.52047477, 2.8675632 , 0.82050451, 1.30459744, 1.56576162,\n",
       "       0.98380967, 1.26718497, 2.08450786, 0.1242823 , 1.2052125 ,\n",
       "       1.15996824, 2.29949288, 1.8354971 , 1.05623702, 1.59948665,\n",
       "       1.64653552, 0.54138191, 0.8500595 , 0.62626104, 1.72636616,\n",
       "       0.68123102, 1.60389205, 1.51080543, 2.42792768, 2.02390986,\n",
       "       0.78003313, 0.7406187 , 0.52806908, 1.60508342, 1.54780327,\n",
       "       0.82389611, 1.34467914, 0.70552377, 1.02302439, 0.4901937 ,\n",
       "       0.49011723, 1.88266595, 1.97400398, 1.64673916, 1.38578917,\n",
       "       2.75961563, 0.58500851, 3.29313878, 1.91929433, 2.12134347,\n",
       "       1.5353883 , 0.66690159, 1.31671939, 0.4337644 , 1.31588414,\n",
       "       1.47953245, 1.66450593, 1.43378501, 2.80757927, 0.51860104,\n",
       "       1.41537249, 0.27860073, 0.78401042, 1.17873727, 0.43683481,\n",
       "       1.22504249, 1.38511549, 1.1882411 , 0.92988002, 1.63064846,\n",
       "       0.64021545, 1.13673534, 0.42046622, 0.82637555, 0.93554641,\n",
       "       1.57872092, 0.25382406, 1.95971906, 1.14453963, 1.67394999,\n",
       "       1.45571496, 0.93723748, 0.51213246, 1.95938185, 0.98523804,\n",
       "       0.78315815, 0.93467687, 1.12786008, 0.97733045, 1.17611133,\n",
       "       2.15091287, 0.29962219, 0.62039089, 0.92394578, 1.37438966,\n",
       "       3.22271858, 1.20688667, 0.90927945, 1.09954506, 1.7379775 ,\n",
       "       0.51034462, 2.08637942, 0.81334127, 1.45968675, 0.71171176,\n",
       "       1.63763216, 0.59194862, 0.23907341, 1.90366719, 1.65537954,\n",
       "       1.74286385, 2.22478703, 1.93375486, 1.54368746, 1.02596034,\n",
       "       1.54771624, 1.78589845, 0.94480843, 0.45042869, 1.34125348,\n",
       "       0.34307731, 0.89631798, 1.66069945, 0.99137313, 1.48221215,\n",
       "       2.62818311, 0.61810297, 0.41897209, 1.32078764, 0.81019991,\n",
       "       1.78629179, 1.02794631, 2.31559892, 1.27534571, 1.66325224,\n",
       "       0.79832274, 0.88708326, 2.0165549 , 2.07535775, 1.56182131,\n",
       "       0.25218213, 0.72865235, 0.36613196, 0.86978141, 1.44640045,\n",
       "       0.50411441, 0.52907176, 0.58619007, 1.67802628, 0.42697737,\n",
       "       0.65986743, 0.84277937, 0.53976741, 1.57022805, 0.69296511,\n",
       "       0.87823644, 1.29915662, 1.08925778, 0.53736295, 0.80022385,\n",
       "       1.60280755, 1.95953935, 2.12341015, 0.53579833, 1.12263949,\n",
       "       0.91296637, 0.70977806, 1.78025544, 1.6710278 , 0.32775181,\n",
       "       0.90309586, 0.67572954, 1.1605678 , 1.86901995, 0.44642553,\n",
       "       1.09216907, 0.22324977, 1.73957411, 0.13452901, 1.40600622,\n",
       "       0.42393857, 0.57957953, 3.16850543, 1.54504453, 0.79765658,\n",
       "       1.15444141, 1.37086607, 3.322553  , 1.06741954, 1.44168304,\n",
       "       0.30120316, 1.10496667, 1.68599449, 0.85623857, 1.29537302,\n",
       "       0.99864887, 1.81728983, 0.26137496, 1.47360797, 1.34943412,\n",
       "       1.23478331, 1.58464566, 1.16149868, 0.68397811, 0.93282956,\n",
       "       1.83962046, 1.35531668, 0.29104385, 0.13074092, 2.09445355,\n",
       "       1.87673691, 1.70040889, 1.4520147 , 0.11892594, 1.38895456,\n",
       "       1.0861971 , 0.90004696, 0.66506203, 1.43243071, 0.6505196 ,\n",
       "       1.19858071, 2.82857599, 1.09069747, 2.61932719, 0.39896849,\n",
       "       0.31463977, 1.96249386, 1.81939338, 2.47722604, 0.6587238 ,\n",
       "       0.28198083, 2.20741315, 1.92848274, 3.32534032, 1.18795806,\n",
       "       2.74808467, 2.28207043, 1.75342156, 1.8727054 , 2.57990054,\n",
       "       0.56964199, 1.19159263, 2.41977015, 1.24343718, 1.67356278,\n",
       "       1.11593903, 1.47147447, 0.08562004, 0.79042142, 1.28141407,\n",
       "       1.21317319, 0.99602403, 2.19808413, 1.11926148, 1.54722482,\n",
       "       1.75898805, 2.03642948, 0.8484134 , 1.41742896, 2.40708816,\n",
       "       1.06953523, 1.55557234, 0.45771079, 1.67028628, 0.96389253,\n",
       "       0.98095681, 1.42432781, 3.80937347, 0.6054501 , 1.04353633,\n",
       "       1.67459615, 0.85012223, 0.8976402 , 0.42362522, 2.68313566,\n",
       "       1.62996701, 1.65165603, 0.85332214, 2.47688816, 0.45276629,\n",
       "       1.34481823, 1.56277608, 1.33357098, 1.79197724, 1.40224278,\n",
       "       1.58338879, 0.5346882 , 1.38187631, 0.75035452, 0.33558882,\n",
       "       0.74781024, 2.64168286, 0.77623308, 2.16930188, 1.96318313,\n",
       "       1.18247091, 1.41385032, 2.38477906, 1.32502087, 2.62953781,\n",
       "       1.4568925 , 1.53988687, 2.26751566, 1.92624375, 1.42189022])"
      ]
     },
     "execution_count": 25,
     "metadata": {},
     "output_type": "execute_result"
    }
   ],
   "source": [
    "D = np.dot( X-X_m, (X-X_m).T )\n",
    "D = np.diag(D)\n",
    "D = np.sqrt(D)\n",
    "D"
   ]
  },
  {
   "cell_type": "code",
   "execution_count": 26,
   "metadata": {},
   "outputs": [
    {
     "data": {
      "text/plain": [
       "(500, 2)"
      ]
     },
     "execution_count": 26,
     "metadata": {},
     "output_type": "execute_result"
    }
   ],
   "source": [
    "X.shape"
   ]
  },
  {
   "cell_type": "code",
   "execution_count": 42,
   "metadata": {},
   "outputs": [
    {
     "name": "stdout",
     "output_type": "stream",
     "text": [
      "[[101.29334644   0.           0.           0.        ]\n",
      " [114.16165664 130.17722593   0.           0.        ]\n",
      " [127.83509908 144.34753249 161.38055864   0.        ]\n",
      " [118.45459381 134.03233109 149.58835578 138.70852726]]\n",
      "1\n"
     ]
    }
   ],
   "source": [
    "DD = np.dot( X[:4],X[:4].T )\n",
    "DD = np.tril( np.dot( X[:4],X[:4].T ) )\n",
    "\n",
    "print(DD)\n",
    "print(np.argmin(DD) )"
   ]
  },
  {
   "cell_type": "code",
   "execution_count": 57,
   "metadata": {},
   "outputs": [
    {
     "data": {
      "text/plain": [
       "array([[101.29334644],\n",
       "       [130.17722593],\n",
       "       [161.38055864],\n",
       "       [138.70852726]])"
      ]
     },
     "execution_count": 57,
     "metadata": {},
     "output_type": "execute_result"
    }
   ],
   "source": [
    "d = np.diagonal(DD)\n",
    "np.dot( np.identity( d.shape[0] ), d[:,np.newaxis] )"
   ]
  }
 ],
 "metadata": {
  "colab": {
   "collapsed_sections": [],
   "name": "conjuntos_de_prueba_2d.ipynb",
   "provenance": [],
   "version": "0.3.2"
  },
  "kernelspec": {
   "display_name": "Python 2",
   "language": "python",
   "name": "python2"
  },
  "language_info": {
   "codemirror_mode": {
    "name": "ipython",
    "version": 2
   },
   "file_extension": ".py",
   "mimetype": "text/x-python",
   "name": "python",
   "nbconvert_exporter": "python",
   "pygments_lexer": "ipython2",
   "version": "2.7.14"
  }
 },
 "nbformat": 4,
 "nbformat_minor": 1
}
