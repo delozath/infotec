{
 "cells": [
  {
   "cell_type": "markdown",
   "metadata": {
    "colab_type": "text",
    "id": "5Qm0x6PC1CZU"
   },
   "source": [
    "# **Conjuntos de prueba elementales en 2D**"
   ]
  },
  {
   "cell_type": "code",
   "execution_count": 2,
   "metadata": {
    "colab": {},
    "colab_type": "code",
    "id": "SLVwyKg50ak4"
   },
   "outputs": [],
   "source": [
    "# Carga bibliotecas útiles\n",
    "import numpy as np\n",
    "from sklearn import datasets\n",
    "import matplotlib.pyplot as plt\n",
    "%matplotlib inline"
   ]
  },
  {
   "cell_type": "code",
   "execution_count": 3,
   "metadata": {},
   "outputs": [
    {
     "name": "stdout",
     "output_type": "stream",
     "text": [
      "Help on function make_circles in module sklearn.datasets.samples_generator:\n",
      "\n",
      "make_circles(n_samples=100, shuffle=True, noise=None, random_state=None, factor=0.8)\n",
      "    Make a large circle containing a smaller circle in 2d.\n",
      "    \n",
      "    A simple toy dataset to visualize clustering and classification\n",
      "    algorithms.\n",
      "    \n",
      "    Read more in the :ref:`User Guide <sample_generators>`.\n",
      "    \n",
      "    Parameters\n",
      "    ----------\n",
      "    n_samples : int, optional (default=100)\n",
      "        The total number of points generated.\n",
      "    \n",
      "    shuffle : bool, optional (default=True)\n",
      "        Whether to shuffle the samples.\n",
      "    \n",
      "    noise : double or None (default=None)\n",
      "        Standard deviation of Gaussian noise added to the data.\n",
      "    \n",
      "    random_state : int, RandomState instance or None, optional (default=None)\n",
      "        If int, random_state is the seed used by the random number generator;\n",
      "        If RandomState instance, random_state is the random number generator;\n",
      "        If None, the random number generator is the RandomState instance used\n",
      "        by `np.random`.\n",
      "    \n",
      "    factor : double < 1 (default=.8)\n",
      "        Scale factor between inner and outer circle.\n",
      "    \n",
      "    Returns\n",
      "    -------\n",
      "    X : array of shape [n_samples, 2]\n",
      "        The generated samples.\n",
      "    \n",
      "    y : array of shape [n_samples]\n",
      "        The integer labels (0 or 1) for class membership of each sample.\n",
      "\n"
     ]
    }
   ],
   "source": [
    "help(datasets.make_circles)"
   ]
  },
  {
   "cell_type": "code",
   "execution_count": null,
   "metadata": {
    "colab": {},
    "colab_type": "code",
    "id": "FlP9o3YL3bdZ"
   },
   "outputs": [],
   "source": [
    "# Genera conjuntos de prueba de N datos\n",
    "N = 1500"
   ]
  },
  {
   "cell_type": "code",
   "execution_count": null,
   "metadata": {
    "colab": {
     "base_uri": "https://localhost:8080/",
     "height": 320
    },
    "colab_type": "code",
    "executionInfo": {
     "elapsed": 1198,
     "status": "ok",
     "timestamp": 1537211115499,
     "user": {
      "displayName": "Oscar Yáñez",
      "photoUrl": "//lh5.googleusercontent.com/-Prxq0ut7kXg/AAAAAAAAAAI/AAAAAAAAAUE/0_0fIeQegvk/s50-c-k-no/photo.jpg",
      "userId": "101681087597011654825"
     },
     "user_tz": 300
    },
    "id": "ys6DaX2Y39xk",
    "outputId": "5aae03eb-9456-4b97-bdd5-e3e8218c7219"
   },
   "outputs": [],
   "source": [
    "# Círculos concéntricos\n",
    "Xcirc, Lcirc = datasets.make_circles(n_samples=N, noise=0.05, factor=0.5)\n",
    "plt.figure(figsize=(5,5))\n",
    "plt.scatter(Xcirc[Lcirc==0, 0], Xcirc[Lcirc==0, 1], s=20, color='red');\n",
    "plt.scatter(Xcirc[Lcirc==1, 0], Xcirc[Lcirc==1, 1], s=20, color='blue');"
   ]
  },
  {
   "cell_type": "code",
   "execution_count": null,
   "metadata": {
    "colab": {
     "base_uri": "https://localhost:8080/",
     "height": 320
    },
    "colab_type": "code",
    "executionInfo": {
     "elapsed": 1036,
     "status": "ok",
     "timestamp": 1537211173925,
     "user": {
      "displayName": "Oscar Yáñez",
      "photoUrl": "//lh5.googleusercontent.com/-Prxq0ut7kXg/AAAAAAAAAAI/AAAAAAAAAUE/0_0fIeQegvk/s50-c-k-no/photo.jpg",
      "userId": "101681087597011654825"
     },
     "user_tz": 300
    },
    "id": "M5AGSBU25_fP",
    "outputId": "5ac9fb55-5a14-45ef-986c-b08c5a9305e6"
   },
   "outputs": [],
   "source": [
    "# Lunas\n",
    "Xlunas, Llunas = datasets.make_moons(n_samples=N, noise=.05)\n",
    "plt.figure(figsize=(5,5))\n",
    "plt.scatter(Xlunas[Llunas==0, 0], Xlunas[Llunas==0, 1], s=20, color='red');\n",
    "plt.scatter(Xlunas[Llunas==1, 0], Xlunas[Llunas==1, 1], s=20, color='blue');\n"
   ]
  },
  {
   "cell_type": "code",
   "execution_count": null,
   "metadata": {
    "colab": {
     "base_uri": "https://localhost:8080/",
     "height": 323
    },
    "colab_type": "code",
    "executionInfo": {
     "elapsed": 1248,
     "status": "ok",
     "timestamp": 1537211966683,
     "user": {
      "displayName": "Oscar Yáñez",
      "photoUrl": "//lh5.googleusercontent.com/-Prxq0ut7kXg/AAAAAAAAAAI/AAAAAAAAAUE/0_0fIeQegvk/s50-c-k-no/photo.jpg",
      "userId": "101681087597011654825"
     },
     "user_tz": 300
    },
    "id": "2wgYkhkM7cJ2",
    "outputId": "fcea5e7d-e07b-48b9-87f0-4ce157595ee2"
   },
   "outputs": [],
   "source": [
    "# Blobs isotrópicos\n",
    "Xblobs, Lblobs = datasets.make_blobs(n_samples=N, random_state=8)\n",
    "# Blobs aniisotrópicos\n",
    "X, Lblobsa = datasets.make_blobs(n_samples=N, random_state=170)\n",
    "Xblobsa = np.dot(X, [[0.6, -0.6], [-0.4, 0.8]])\n",
    "# Blobs de distinta varianza\n",
    "Xblobsv, Lblobsv = datasets.make_blobs(n_samples=N, cluster_std=[1.0, 2.5, 0.5],\n",
    "                             random_state=170)\n",
    "plt.figure(figsize=(15,5))\n",
    "for X, l, i in zip((Xblobs,Xblobsa,Xblobsv),(Lblobs,Lblobsa,Lblobsv),range(1,4)):\n",
    "  plt.subplot(1,3,i)\n",
    "  plt.scatter(X[l==0, 0], X[l==0, 1], s=20, color='red');\n",
    "  plt.scatter(X[l==1, 0], X[l==1, 1], s=20, color='blue');\n",
    "  plt.scatter(X[l==2, 0], X[l==2, 1], s=20, color='green');"
   ]
  },
  {
   "cell_type": "code",
   "execution_count": null,
   "metadata": {
    "colab": {
     "base_uri": "https://localhost:8080/",
     "height": 320
    },
    "colab_type": "code",
    "executionInfo": {
     "elapsed": 1093,
     "status": "ok",
     "timestamp": 1537212099573,
     "user": {
      "displayName": "Oscar Yáñez",
      "photoUrl": "//lh5.googleusercontent.com/-Prxq0ut7kXg/AAAAAAAAAAI/AAAAAAAAAUE/0_0fIeQegvk/s50-c-k-no/photo.jpg",
      "userId": "101681087597011654825"
     },
     "user_tz": 300
    },
    "id": "pEd4WXD1-XfY",
    "outputId": "0772618a-41e8-436f-f626-15e969f59c71"
   },
   "outputs": [],
   "source": [
    "# Cuadrado uniforme\n",
    "Xunif = np.random.rand(N, 2)\n",
    "plt.figure(figsize=(5,5))\n",
    "plt.scatter(Xunif[:, 0], Xunif[:, 1], s=20, color='black');"
   ]
  }
 ],
 "metadata": {
  "colab": {
   "collapsed_sections": [],
   "name": "conjuntos_de_prueba_2d.ipynb",
   "provenance": [],
   "version": "0.3.2"
  },
  "kernelspec": {
   "display_name": "Python 3",
   "language": "python",
   "name": "python3"
  },
  "language_info": {
   "codemirror_mode": {
    "name": "ipython",
    "version": 3
   },
   "file_extension": ".py",
   "mimetype": "text/x-python",
   "name": "python",
   "nbconvert_exporter": "python",
   "pygments_lexer": "ipython3",
   "version": "3.6.6"
  }
 },
 "nbformat": 4,
 "nbformat_minor": 1
}
